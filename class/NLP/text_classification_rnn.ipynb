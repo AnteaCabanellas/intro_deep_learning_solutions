{
 "cells": [
  {
   "cell_type": "markdown",
   "metadata": {},
   "source": [
    "It is highly recommended to use a powerful **GPU**, you can use it for free uploading this notebook to [Google Colab](https://colab.research.google.com/notebooks/intro.ipynb).\n",
    "<table align=\"center\">\n",
    " <td align=\"center\"><a target=\"_blank\" href=\"https://colab.research.google.com/github/ezponda/intro_deep_learning_solutions/blob/main/class/NLP/text_classification_rnn.ipynb\">\n",
    "        <img src=\"https://colab.research.google.com/img/colab_favicon_256px.png\"  width=\"50\" height=\"50\" style=\"padding-bottom:5px;\" />Run in Google Colab</a></td>\n",
    "  <td align=\"center\"><a target=\"_blank\" href=\"https://github.com/ezponda/intro_deep_learning_solutions/blob/main/class/NLP/text_classification_rnn.ipynb\">\n",
    "        <img src=\"https://github.githubassets.com/images/modules/logos_page/GitHub-Mark.png\"  width=\"50\" height=\"50\" style=\"padding-bottom:5px;\" />View Source on GitHub</a></td>\n",
    "</table>"
   ]
  },
  {
   "cell_type": "code",
   "execution_count": 1,
   "metadata": {
    "execution": {
     "iopub.execute_input": "2021-01-13T03:51:08.377448Z",
     "iopub.status.busy": "2021-01-13T03:51:08.376763Z",
     "iopub.status.idle": "2021-01-13T03:51:15.989069Z",
     "shell.execute_reply": "2021-01-13T03:51:15.988434Z"
    },
    "id": "z682XYsrjkY9"
   },
   "outputs": [],
   "source": [
    "import numpy as np\n",
    "import tensorflow_datasets as tfds\n",
    "import tensorflow as tf\n",
    "from tensorflow.keras import layers\n",
    "import matplotlib.pyplot as plt"
   ]
  },
  {
   "cell_type": "markdown",
   "metadata": {
    "id": "pRmMubr0jrE2"
   },
   "source": [
    "## Loading IMBD Dataset\n",
    "\n",
    "\n",
    "We’ll work with the IMDB dataset: a set of 50,000 highly polarized reviews from the Internet Movie Database. They’re split into 25,000 reviews for training and 25,000 reviews for testing, each set consisting of 50% negative and 50% positive reviews. The parameter num_words controls how many words different we want to use.\n",
    "\n",
    "\n",
    "We are going to download the dataset using [TFDS](https://www.tensorflow.org/datasets). TFDS provides a collection of ready-to-use datasets for use with TensorFlow, Jax, and other Machine Learning frameworks.\n"
   ]
  },
  {
   "cell_type": "code",
   "execution_count": 2,
   "metadata": {
    "id": "PN51LEh8za1v"
   },
   "outputs": [],
   "source": [
    "#!pip install -q tensorflow_datasets"
   ]
  },
  {
   "cell_type": "code",
   "execution_count": 3,
   "metadata": {
    "colab": {
     "base_uri": "https://localhost:8080/"
    },
    "execution": {
     "iopub.execute_input": "2021-01-13T03:51:16.001184Z",
     "iopub.status.busy": "2021-01-13T03:51:16.000514Z",
     "iopub.status.idle": "2021-01-13T03:51:17.568416Z",
     "shell.execute_reply": "2021-01-13T03:51:17.568875Z"
    },
    "id": "SHRwRoP2nVHX",
    "outputId": "a73bf02b-0879-492c-e31d-6b9340333662"
   },
   "outputs": [
    {
     "data": {
      "text/plain": [
       "(TensorSpec(shape=(), dtype=tf.string, name=None),\n",
       " TensorSpec(shape=(), dtype=tf.int64, name=None))"
      ]
     },
     "execution_count": 3,
     "metadata": {},
     "output_type": "execute_result"
    }
   ],
   "source": [
    "dataset, info = tfds.load('imdb_reviews', with_info=True,\n",
    "                          as_supervised=True)\n",
    "train_dataset, test_dataset = dataset['train'], dataset['test']\n",
    "\n",
    "train_dataset.element_spec"
   ]
  },
  {
   "cell_type": "markdown",
   "metadata": {
    "id": "nWA4c2ir7g6p"
   },
   "source": [
    "Initially this returns a dataset of (text, label pairs):"
   ]
  },
  {
   "cell_type": "code",
   "execution_count": 4,
   "metadata": {
    "colab": {
     "base_uri": "https://localhost:8080/"
    },
    "execution": {
     "iopub.execute_input": "2021-01-13T03:51:17.574503Z",
     "iopub.status.busy": "2021-01-13T03:51:17.573198Z",
     "iopub.status.idle": "2021-01-13T03:51:17.618857Z",
     "shell.execute_reply": "2021-01-13T03:51:17.619346Z"
    },
    "id": "vd4_BGKyurao",
    "outputId": "1d821ff5-a369-493d-c624-10f8e4b8437e"
   },
   "outputs": [
    {
     "name": "stdout",
     "output_type": "stream",
     "text": [
      "text:  b\"This was an absolutely terrible movie. Don't be lured in by Christopher Walken or Michael Ironside. Both are great actors, but this must simply be their worst role in history. Even their great acting could not redeem this movie's ridiculous storyline. This movie is an early nineties US propaganda piece. The most pathetic scenes were those when the Columbian rebels were making their cases for revolutions. Maria Conchita Alonso appeared phony, and her pseudo-love affair with Walken was nothing but a pathetic emotional plug in a movie that was devoid of any real meaning. I am disappointed that there are movies like this, ruining actor's like Christopher Walken's good name. I could barely sit through it.\"\n",
      "----------------------------------------------------------------------------------------------------\n",
      "label:  0\n"
     ]
    },
    {
     "name": "stderr",
     "output_type": "stream",
     "text": [
      "2023-06-15 15:16:15.747903: W tensorflow/tsl/platform/profile_utils/cpu_utils.cc:128] Failed to get CPU frequency: 0 Hz\n",
      "2023-06-15 15:16:15.760797: W tensorflow/core/kernels/data/cache_dataset_ops.cc:856] The calling iterator did not fully read the dataset being cached. In order to avoid unexpected truncation of the dataset, the partially cached contents of the dataset  will be discarded. This can happen if you have an input pipeline similar to `dataset.cache().take(k).repeat()`. You should use `dataset.take(k).cache().repeat()` instead.\n"
     ]
    }
   ],
   "source": [
    "for example, label in train_dataset.take(1):\n",
    "    print('text: ', example.numpy())\n",
    "    print('--'*50)\n",
    "    print('label: ', label.numpy())"
   ]
  },
  {
   "cell_type": "markdown",
   "metadata": {
    "id": "z2qVJzcEluH_"
   },
   "source": [
    "Next shuffle the data for training and create batches of these `(text, label)` pairs:"
   ]
  },
  {
   "cell_type": "code",
   "execution_count": 5,
   "metadata": {
    "execution": {
     "iopub.execute_input": "2021-01-13T03:51:17.623697Z",
     "iopub.status.busy": "2021-01-13T03:51:17.623008Z",
     "iopub.status.idle": "2021-01-13T03:51:17.624931Z",
     "shell.execute_reply": "2021-01-13T03:51:17.625389Z"
    },
    "id": "dDsCaZCDYZgm"
   },
   "outputs": [],
   "source": [
    "BUFFER_SIZE = 10000\n",
    "BATCH_SIZE = 512"
   ]
  },
  {
   "cell_type": "code",
   "execution_count": 6,
   "metadata": {
    "execution": {
     "iopub.execute_input": "2021-01-13T03:51:17.629810Z",
     "iopub.status.busy": "2021-01-13T03:51:17.629159Z",
     "iopub.status.idle": "2021-01-13T03:51:17.632829Z",
     "shell.execute_reply": "2021-01-13T03:51:17.633249Z"
    },
    "id": "VznrltNOnUc5"
   },
   "outputs": [],
   "source": [
    "train_dataset = train_dataset.shuffle(BUFFER_SIZE).batch(BATCH_SIZE).prefetch(tf.data.AUTOTUNE)\n",
    "test_dataset = test_dataset.batch(BATCH_SIZE).prefetch(tf.data.AUTOTUNE)"
   ]
  },
  {
   "cell_type": "code",
   "execution_count": 7,
   "metadata": {
    "colab": {
     "base_uri": "https://localhost:8080/"
    },
    "execution": {
     "iopub.execute_input": "2021-01-13T03:51:17.638666Z",
     "iopub.status.busy": "2021-01-13T03:51:17.637321Z",
     "iopub.status.idle": "2021-01-13T03:51:17.883181Z",
     "shell.execute_reply": "2021-01-13T03:51:17.883586Z"
    },
    "id": "jqkvdcFv41wC",
    "outputId": "794aa9a0-1255-4a88-bfdd-3b693ea190f4"
   },
   "outputs": [
    {
     "name": "stdout",
     "output_type": "stream",
     "text": [
      "texts:  [b'\"Kalifornia\" is one of my all-time favourite movies, and it easily could be labeled as one of the best psychological thrillers of the 90`s. The film has a very stylish surface to it, but behind that are a lot of disturbing and honest depictions of homicidal maniacs and the terrifyng violence they inflict upon others. One of the film`s strongest aspects is it`s performances, Brad Pitt is startlingly great as a trailer-trash psycho named Early. Pitt potrays his frightening character almost flawlessly. Juliette Lewis is equally as good playing his naive girlfriend, her innocence is almost heart-breaking. \"Kalifornia\" has a very simple plot to it, that goes steadily and slowly forward for about an hour, but it suddenly plunges into a harrowing spree of murder, as Pitt unleashes his psychotic personality. There are alot of shocking scenes, and it all mounts to a power-house climax that will haunt you for days. \"Kalifonia\" is a film that should really be watched for it`s intense look at how monstrous a human being can be, and not only for it`s violence and gore.'\n",
      " b\"So you think a talking parrot is not your cup of tea huh? Well, think again. Paulie is a wonderful film filled with touching moments.The characters are all lovable especially Paulie as he enters the lives of many people on his journey.It is journey worth experiencing. Don't miss it! It is available on home video.\"\n",
      " b\"Any Way the Wind Blows is Tom Barmans (who is also know as front man of the rock formation 'dEUS') debut movie. Entirely shot in Antwerp (Belgium), the movie starts on a sunny friday morning and skips rather superficially between the events that fill the day of a dozen of main characters. When the movie ends, you have a lot of stuff to think about, because most of the different story-lines are left wide open.<br /><br />The movie has a (purely instrumental) sound track that will rock your socks off. In most scenes, the music truly enhances the general atmosphere and feel, really making the movie hallucinating to watch at certain points of time. The main scene in the film, the party, is very well shot.<br /><br />The director didn't hesitate to use video clip techniques, having his main characters dancing on one of the best sound tracks I've heard lately.<br /><br />The screenplay is great stuff. Camera angles and colors are very well chosen. The 'costumes' are very hot and very 'seventies' too. And I loved (most of the) acting.<br /><br />The thing I liked most about the movie, are the subtle touches of absurd, surreal, very dry or even cynical humor that interleave.<br /><br />Without claiming to be a comedy (this movie certainly is not a comedy but rather an alternative piece of art), it still manages to have its audience giggling and even burst into laughter at some times.<br /><br />This is one more directors' debut that shouldn't be an ending. I hope to see more Tom Barman movies in the future because I had a good time. Cheers.\"]\n",
      "\n",
      "labels:  [1 1 1]\n"
     ]
    },
    {
     "name": "stderr",
     "output_type": "stream",
     "text": [
      "2023-06-15 15:16:15.991400: W tensorflow/core/kernels/data/cache_dataset_ops.cc:856] The calling iterator did not fully read the dataset being cached. In order to avoid unexpected truncation of the dataset, the partially cached contents of the dataset  will be discarded. This can happen if you have an input pipeline similar to `dataset.cache().take(k).repeat()`. You should use `dataset.take(k).cache().repeat()` instead.\n"
     ]
    }
   ],
   "source": [
    "for example, label in train_dataset.take(1):\n",
    "    print('texts: ', example.numpy()[:3])\n",
    "    print()\n",
    "    print('labels: ', label.numpy()[:3])"
   ]
  },
  {
   "cell_type": "markdown",
   "metadata": {
    "id": "s5eWCo88voPY"
   },
   "source": [
    "## Preprocessing layer"
   ]
  },
  {
   "cell_type": "markdown",
   "metadata": {
    "id": "TFevcItw15P_"
   },
   "source": [
    "The raw text loaded by `tfds` needs to be processed before it can be used in a model. The simplest way to process text for training is using the [`experimental.preprocessing.TextVectorization`](https://www.tensorflow.org/api_docs/python/tf/keras/layers/experimental/preprocessing/TextVectorization) layer. It transforms strings into arrays of word indexes.\n",
    "\n",
    "```python\n",
    "tf.keras.layers.experimental.preprocessing.TextVectorization(\n",
    "    max_tokens=None, standardize=LOWER_AND_STRIP_PUNCTUATION,\n",
    "    split=SPLIT_ON_WHITESPACE, ngrams=None, output_mode=INT,\n",
    "    output_sequence_length=None, pad_to_max_tokens=True, vocabulary=None, **kwargs\n",
    ")\n",
    "```\n",
    "\n",
    "- **output_sequence_length**: If set, the output will have its time dimension padded or truncated to exactly output_sequence_length values, resulting in a tensor of shape `[batch_size, output_sequence_length]`.\n",
    "- **max_tokens**: The maximum size of the vocabulary for this layer\n",
    "- **standardize**: Standardize each sample (usually lowercasing + punctuation stripping)\n",
    "\n",
    "\n",
    "Create the layer, and pass the dataset's text to the layer's `.adapt` method:"
   ]
  },
  {
   "cell_type": "code",
   "execution_count": 8,
   "metadata": {
    "execution": {
     "iopub.execute_input": "2021-01-13T03:51:17.888778Z",
     "iopub.status.busy": "2021-01-13T03:51:17.888113Z",
     "iopub.status.idle": "2021-01-13T03:51:21.858729Z",
     "shell.execute_reply": "2021-01-13T03:51:21.858056Z"
    },
    "id": "uC25Lu1Yvuqy"
   },
   "outputs": [],
   "source": [
    "vocab_size = 5000\n",
    "max_sequence_length = None# 100\n",
    "\n",
    "preprocessing = tf.keras.layers.experimental.preprocessing.TextVectorization(\n",
    "    max_tokens=vocab_size, output_sequence_length=max_sequence_length)\n",
    "preprocessing.adapt(train_dataset.map(lambda text, label: text))"
   ]
  },
  {
   "cell_type": "markdown",
   "metadata": {
    "id": "IuQzVBbe3Ldu"
   },
   "source": [
    "The `.adapt` method sets the layer's vocabulary. Here are the first 20 tokens. After the padding and unknown tokens they're sorted by frequency: "
   ]
  },
  {
   "cell_type": "code",
   "execution_count": 9,
   "metadata": {
    "colab": {
     "base_uri": "https://localhost:8080/"
    },
    "execution": {
     "iopub.execute_input": "2021-01-13T03:51:21.863814Z",
     "iopub.status.busy": "2021-01-13T03:51:21.863094Z",
     "iopub.status.idle": "2021-01-13T03:51:21.867751Z",
     "shell.execute_reply": "2021-01-13T03:51:21.868242Z"
    },
    "id": "tBoyjjWg0Ac9",
    "outputId": "87be77cc-ff7a-4b21-d848-ad24aa06dd6b"
   },
   "outputs": [
    {
     "data": {
      "text/plain": [
       "array(['', '[UNK]', 'the', 'and', 'a', 'of', 'to', 'is', 'in', 'it', 'i',\n",
       "       'this', 'that', 'br', 'was', 'as', 'for', 'with', 'movie', 'but'],\n",
       "      dtype='<U16')"
      ]
     },
     "execution_count": 9,
     "metadata": {},
     "output_type": "execute_result"
    }
   ],
   "source": [
    "vocab = np.array(preprocessing.get_vocabulary())\n",
    "vocab[:20]"
   ]
  },
  {
   "cell_type": "markdown",
   "metadata": {
    "id": "mjId5pua3jHQ"
   },
   "source": [
    "Once the vocabulary is set, the layer can encode text into indices. The tensors of indices are 0-padded to the longest sequence in the batch (unless you set a fixed `output_sequence_length`):"
   ]
  },
  {
   "cell_type": "code",
   "execution_count": 10,
   "metadata": {
    "colab": {
     "base_uri": "https://localhost:8080/"
    },
    "id": "wbrH5N7Fza1y",
    "outputId": "c8899287-f044-4f27-8090-324b62be5855"
   },
   "outputs": [
    {
     "data": {
      "text/plain": [
       "[2, 20, 7, 50, 1]"
      ]
     },
     "execution_count": 10,
     "metadata": {},
     "output_type": "execute_result"
    }
   ],
   "source": [
    "voc = preprocessing.get_vocabulary()\n",
    "word_index = dict(zip(voc, range(len(voc))))\n",
    "\n",
    "text = 'the film is good asfadf'\n",
    "[word_index.get(w, 1) for w in text.split()]"
   ]
  },
  {
   "cell_type": "markdown",
   "metadata": {
    "id": "wqY2udS3za1y"
   },
   "source": [
    "As you can see, we obtain the same encoding"
   ]
  },
  {
   "cell_type": "code",
   "execution_count": 11,
   "metadata": {
    "colab": {
     "base_uri": "https://localhost:8080/"
    },
    "id": "2X9x80rJza1y",
    "outputId": "31be76f6-2c24-4eb9-bb71-2d786753df86"
   },
   "outputs": [
    {
     "data": {
      "text/plain": [
       "<tf.Tensor: shape=(1, 5), dtype=int64, numpy=array([[ 2, 20,  7, 50,  1]])>"
      ]
     },
     "execution_count": 11,
     "metadata": {},
     "output_type": "execute_result"
    }
   ],
   "source": [
    "preprocessing([text])"
   ]
  },
  {
   "cell_type": "markdown",
   "metadata": {
    "id": "F5cjz0bS39IN"
   },
   "source": [
    "Lets see some examples of the preprocessing step:"
   ]
  },
  {
   "cell_type": "code",
   "execution_count": 12,
   "metadata": {
    "colab": {
     "base_uri": "https://localhost:8080/"
    },
    "execution": {
     "iopub.execute_input": "2021-01-13T03:51:21.891588Z",
     "iopub.status.busy": "2021-01-13T03:51:21.890914Z",
     "iopub.status.idle": "2021-01-13T03:51:21.896502Z",
     "shell.execute_reply": "2021-01-13T03:51:21.896949Z"
    },
    "id": "N_tD0QY5wXaK",
    "outputId": "12d7ce2d-4da9-4b9d-eb2d-65329ab75175"
   },
   "outputs": [
    {
     "name": "stdout",
     "output_type": "stream",
     "text": [
      "Original:  b'\"Kalifornia\" is one of my all-time favourite movies, and it easily could be labeled as one of the best psychological thrillers of the 90`s. The film has a very stylish surface to it, but behind that are a lot of disturbing and honest depictions of homicidal maniacs and the terrifyng violence they inflict upon others. One of the film`s strongest aspects is it`s performances, Brad Pitt is startlingly great as a trailer-trash psycho named Early. Pitt potrays his frightening character almost flawlessly. Juliette Lewis is equally as good playing his naive girlfriend, her innocence is almost heart-breaking. \"Kalifornia\" has a very simple plot to it, that goes steadily and slowly forward for about an hour, but it suddenly plunges into a harrowing spree of murder, as Pitt unleashes his psychotic personality. There are alot of shocking scenes, and it all mounts to a power-house climax that will haunt you for days. \"Kalifonia\" is a film that should really be watched for it`s intense look at how monstrous a human being can be, and not only for it`s violence and gore.'\n",
      "\n",
      "Preprocessed:  [   1    7   29    5   56 3840 1577   93    3    9  685   96   28    1\n",
      "   15   29    5    2  115 1875 3181    5    2 1996    2   20   44    4\n",
      "   53 2963 2542    6    9   19  494   12   24    4  169    5 1195    3\n",
      " 1189    1    5    1    1    3    2    1  569   35    1  720  377   29\n",
      "    5    2   95    1 1352    7   30  347 2745 2691    7    1   85   15\n",
      "    4    1 2350  753  394 2691    1   25 2527  109  210    1    1 2352\n",
      "    7 1259   15   50  380   25 2267 1029   40 3109    7  210 4689    1\n",
      "   44    4   53  588  114    6    9   12  261    1    3 1307  970   16\n",
      "   43   34  560   19    9 1051    1   78    4    1    1    5  577   15\n",
      " 2691    1   25 3756 1613   48   24    1    5 1575  137    3    9   32\n",
      "    1    6    4    1 1365   12   77    1   23   16  497    1    7    4\n",
      "   20   12  139   63   28  284   16   30 1551  163   31   87    1    4\n",
      "  401  107   69   28    3   22   61   16   30  569    3  630    0    0\n",
      "    0    0    0    0    0    0    0    0    0    0    0    0    0    0\n",
      "    0    0    0    0    0    0    0    0    0    0    0    0    0    0\n",
      "    0    0    0    0    0    0    0    0    0    0    0    0    0    0\n",
      "    0    0    0    0    0    0    0    0    0    0    0    0    0    0\n",
      "    0    0    0    0    0    0    0    0    0    0    0    0    0    0\n",
      "    0    0    0    0    0    0    0    0    0    0    0    0    0    0\n",
      "    0    0    0    0    0    0    0    0    0    0    0    0    0    0\n",
      "    0    0    0    0    0    0    0    0    0    0    0    0    0    0\n",
      "    0    0    0    0    0    0    0    0    0    0    0    0    0    0\n",
      "    0    0    0    0    0    0    0    0    0    0    0    0    0    0\n",
      "    0    0    0    0    0    0    0    0    0    0    0    0    0    0\n",
      "    0    0    0    0    0    0    0    0    0    0    0    0    0    0\n",
      "    0    0    0    0    0    0    0    0    0    0    0    0    0    0\n",
      "    0    0    0    0    0    0    0    0    0    0    0    0    0    0\n",
      "    0    0    0    0    0    0    0    0    0    0    0    0    0    0\n",
      "    0    0    0    0    0    0    0    0    0    0    0    0    0    0\n",
      "    0    0    0    0    0    0    0    0    0    0    0    0    0    0\n",
      "    0    0    0    0    0    0    0    0    0    0    0    0    0    0\n",
      "    0    0    0    0    0    0    0    0    0    0    0    0    0    0\n",
      "    0    0    0    0    0    0    0    0    0    0    0    0    0    0\n",
      "    0    0    0    0    0    0    0    0    0    0    0    0    0    0\n",
      "    0    0    0    0    0    0    0    0    0    0    0    0    0    0\n",
      "    0    0    0    0    0    0    0    0    0    0    0    0    0    0\n",
      "    0    0    0    0    0    0    0    0    0    0    0    0    0    0\n",
      "    0    0    0    0    0    0    0    0    0    0    0    0    0    0\n",
      "    0    0    0    0    0    0    0    0    0    0    0    0    0    0\n",
      "    0    0    0    0    0    0    0    0    0    0    0    0    0    0\n",
      "    0    0    0    0    0    0    0    0    0    0    0    0    0    0\n",
      "    0    0    0    0    0    0    0    0    0    0    0    0    0    0\n",
      "    0    0    0    0    0    0    0    0    0    0    0    0    0    0\n",
      "    0    0    0    0    0    0    0    0    0    0    0    0    0    0\n",
      "    0    0    0    0    0    0    0    0    0    0    0    0    0    0\n",
      "    0    0    0    0    0    0    0    0    0    0    0    0    0    0\n",
      "    0    0    0    0    0    0    0    0    0    0    0    0    0    0\n",
      "    0    0    0    0    0    0    0    0    0    0    0    0    0    0\n",
      "    0    0    0    0    0    0    0    0    0    0    0    0    0    0\n",
      "    0    0    0    0    0    0    0    0    0    0    0    0    0    0\n",
      "    0    0    0    0    0    0    0    0    0    0    0    0    0    0\n",
      "    0    0    0    0    0    0    0    0    0    0    0    0    0    0\n",
      "    0    0    0    0    0    0    0    0    0    0    0    0    0    0\n",
      "    0    0    0    0    0    0    0    0    0    0    0    0    0    0\n",
      "    0    0    0    0    0    0    0    0    0    0    0    0    0    0\n",
      "    0    0    0    0    0    0    0    0    0    0    0    0    0    0\n",
      "    0    0    0    0    0    0    0    0    0    0    0    0    0    0\n",
      "    0    0    0    0    0    0    0    0    0    0    0    0    0    0\n",
      "    0    0    0    0    0    0    0    0    0    0    0    0    0    0\n",
      "    0    0    0    0    0    0    0    0    0    0    0    0    0    0\n",
      "    0    0    0    0    0    0    0    0    0    0    0    0    0    0\n",
      "    0    0    0    0    0    0    0    0    0    0    0    0    0    0\n",
      "    0    0    0    0    0    0    0    0    0    0    0    0    0    0\n",
      "    0    0    0    0    0    0    0    0    0    0    0    0    0    0\n",
      "    0    0    0    0    0    0    0    0    0    0    0    0    0    0\n",
      "    0    0    0    0    0    0    0    0    0    0    0    0    0    0\n",
      "    0    0    0    0    0    0    0    0    0    0    0    0    0    0\n",
      "    0    0    0    0    0    0    0    0    0    0    0    0    0    0\n",
      "    0    0    0    0    0    0    0    0    0    0    0    0    0    0\n",
      "    0    0    0    0    0    0    0    0    0    0    0    0    0    0\n",
      "    0    0    0    0    0    0    0    0    0    0    0    0    0]\n",
      "\n",
      "Round-trip:  [UNK] is one of my alltime favourite movies and it easily could be [UNK] as one of the best psychological thrillers of the 90s the film has a very stylish surface to it but behind that are a lot of disturbing and honest [UNK] of [UNK] [UNK] and the [UNK] violence they [UNK] upon others one of the films [UNK] aspects is its performances brad pitt is [UNK] great as a [UNK] psycho named early pitt [UNK] his frightening character almost [UNK] [UNK] lewis is equally as good playing his naive girlfriend her innocence is almost heartbreaking [UNK] has a very simple plot to it that goes [UNK] and slowly forward for about an hour but it suddenly [UNK] into a [UNK] [UNK] of murder as pitt [UNK] his psychotic personality there are [UNK] of shocking scenes and it all [UNK] to a [UNK] climax that will [UNK] you for days [UNK] is a film that should really be watched for its intense look at how [UNK] a human being can be and not only for its violence and gore                                                                                                                                                                                                                                                                                                                                                                                                                                                                                                                                                                                                                                                                                                                                                                                                                                             \n",
      "\n",
      "\n",
      "Original:  b\"So you think a talking parrot is not your cup of tea huh? Well, think again. Paulie is a wonderful film filled with touching moments.The characters are all lovable especially Paulie as he enters the lives of many people on his journey.It is journey worth experiencing. Don't miss it! It is available on home video.\"\n",
      "\n",
      "Preprocessed:  [  38   23  103    4  655    1    7   22  123 3607    5 3653 3760   74\n",
      "  103  173 4135    7    4  374   20 1110   17 1276    1  102   24   32\n",
      " 3139  260 4135   15   27 3445    2  457    5  106   83   21   25    1\n",
      "    7 1270  277    1   90  714    9    9    7 1402   21  345  393    0\n",
      "    0    0    0    0    0    0    0    0    0    0    0    0    0    0\n",
      "    0    0    0    0    0    0    0    0    0    0    0    0    0    0\n",
      "    0    0    0    0    0    0    0    0    0    0    0    0    0    0\n",
      "    0    0    0    0    0    0    0    0    0    0    0    0    0    0\n",
      "    0    0    0    0    0    0    0    0    0    0    0    0    0    0\n",
      "    0    0    0    0    0    0    0    0    0    0    0    0    0    0\n",
      "    0    0    0    0    0    0    0    0    0    0    0    0    0    0\n",
      "    0    0    0    0    0    0    0    0    0    0    0    0    0    0\n",
      "    0    0    0    0    0    0    0    0    0    0    0    0    0    0\n",
      "    0    0    0    0    0    0    0    0    0    0    0    0    0    0\n",
      "    0    0    0    0    0    0    0    0    0    0    0    0    0    0\n",
      "    0    0    0    0    0    0    0    0    0    0    0    0    0    0\n",
      "    0    0    0    0    0    0    0    0    0    0    0    0    0    0\n",
      "    0    0    0    0    0    0    0    0    0    0    0    0    0    0\n",
      "    0    0    0    0    0    0    0    0    0    0    0    0    0    0\n",
      "    0    0    0    0    0    0    0    0    0    0    0    0    0    0\n",
      "    0    0    0    0    0    0    0    0    0    0    0    0    0    0\n",
      "    0    0    0    0    0    0    0    0    0    0    0    0    0    0\n",
      "    0    0    0    0    0    0    0    0    0    0    0    0    0    0\n",
      "    0    0    0    0    0    0    0    0    0    0    0    0    0    0\n",
      "    0    0    0    0    0    0    0    0    0    0    0    0    0    0\n",
      "    0    0    0    0    0    0    0    0    0    0    0    0    0    0\n",
      "    0    0    0    0    0    0    0    0    0    0    0    0    0    0\n",
      "    0    0    0    0    0    0    0    0    0    0    0    0    0    0\n",
      "    0    0    0    0    0    0    0    0    0    0    0    0    0    0\n",
      "    0    0    0    0    0    0    0    0    0    0    0    0    0    0\n",
      "    0    0    0    0    0    0    0    0    0    0    0    0    0    0\n",
      "    0    0    0    0    0    0    0    0    0    0    0    0    0    0\n",
      "    0    0    0    0    0    0    0    0    0    0    0    0    0    0\n",
      "    0    0    0    0    0    0    0    0    0    0    0    0    0    0\n",
      "    0    0    0    0    0    0    0    0    0    0    0    0    0    0\n",
      "    0    0    0    0    0    0    0    0    0    0    0    0    0    0\n",
      "    0    0    0    0    0    0    0    0    0    0    0    0    0    0\n",
      "    0    0    0    0    0    0    0    0    0    0    0    0    0    0\n",
      "    0    0    0    0    0    0    0    0    0    0    0    0    0    0\n",
      "    0    0    0    0    0    0    0    0    0    0    0    0    0    0\n",
      "    0    0    0    0    0    0    0    0    0    0    0    0    0    0\n",
      "    0    0    0    0    0    0    0    0    0    0    0    0    0    0\n",
      "    0    0    0    0    0    0    0    0    0    0    0    0    0    0\n",
      "    0    0    0    0    0    0    0    0    0    0    0    0    0    0\n",
      "    0    0    0    0    0    0    0    0    0    0    0    0    0    0\n",
      "    0    0    0    0    0    0    0    0    0    0    0    0    0    0\n",
      "    0    0    0    0    0    0    0    0    0    0    0    0    0    0\n",
      "    0    0    0    0    0    0    0    0    0    0    0    0    0    0\n",
      "    0    0    0    0    0    0    0    0    0    0    0    0    0    0\n",
      "    0    0    0    0    0    0    0    0    0    0    0    0    0    0\n",
      "    0    0    0    0    0    0    0    0    0    0    0    0    0    0\n",
      "    0    0    0    0    0    0    0    0    0    0    0    0    0    0\n",
      "    0    0    0    0    0    0    0    0    0    0    0    0    0    0\n",
      "    0    0    0    0    0    0    0    0    0    0    0    0    0    0\n",
      "    0    0    0    0    0    0    0    0    0    0    0    0    0    0\n",
      "    0    0    0    0    0    0    0    0    0    0    0    0    0    0\n",
      "    0    0    0    0    0    0    0    0    0    0    0    0    0    0\n",
      "    0    0    0    0    0    0    0    0    0    0    0    0    0    0\n",
      "    0    0    0    0    0    0    0    0    0    0    0    0    0    0\n",
      "    0    0    0    0    0    0    0    0    0    0    0    0    0    0\n",
      "    0    0    0    0    0    0    0    0    0    0    0    0    0    0\n",
      "    0    0    0    0    0    0    0    0    0    0    0    0    0    0\n",
      "    0    0    0    0    0    0    0    0    0    0    0    0    0    0\n",
      "    0    0    0    0    0    0    0    0    0    0    0    0    0    0\n",
      "    0    0    0    0    0    0    0    0    0    0    0    0    0    0\n",
      "    0    0    0    0    0    0    0    0    0    0    0    0    0    0\n",
      "    0    0    0    0    0    0    0    0    0    0    0    0    0    0\n",
      "    0    0    0    0    0    0    0    0    0    0    0    0    0    0\n",
      "    0    0    0    0    0    0    0    0    0    0    0    0    0    0\n",
      "    0    0    0    0    0    0    0    0    0    0    0    0    0    0\n",
      "    0    0    0    0    0    0    0    0    0    0    0    0    0]\n",
      "\n",
      "Round-trip:  so you think a talking [UNK] is not your cup of tea huh well think again paulie is a wonderful film filled with touching [UNK] characters are all lovable especially paulie as he enters the lives of many people on his [UNK] is journey worth [UNK] dont miss it it is available on home video                                                                                                                                                                                                                                                                                                                                                                                                                                                                                                                                                                                                                                                                                                                                                                                                                                                                                                                                                                          \n",
      "\n",
      "\n"
     ]
    }
   ],
   "source": [
    "processed_example = preprocessing(example).numpy()\n",
    "for n in range(2):\n",
    "    print(\"Original: \", example[n].numpy())\n",
    "    print()\n",
    "    print(\"Preprocessed: \", processed_example[n])\n",
    "    print()\n",
    "    print(\"Round-trip: \", \" \".join(vocab[processed_example[n]]))\n",
    "    print()\n",
    "    print()"
   ]
  },
  {
   "cell_type": "markdown",
   "metadata": {
    "id": "wGmM4da1za1y"
   },
   "source": [
    "### Embedding layer\n",
    "\n",
    "\n",
    "```python\n",
    "tf.keras.layers.Embedding(\n",
    "    input_dim,\n",
    "    output_dim,\n",
    "    input_length=None,\n",
    "    mask_zero=False,\n",
    ")\n",
    "```\n",
    "\n",
    "- **input_dim**: Integer. Size of the vocabulary, i.e. maximum integer index + 1.\n",
    "- **output_dim**: Integer. Dimension of the dense embedding.\n",
    "- **input_length**: Length of input sequences, when it is constant.\n",
    "\n",
    "\n",
    "This layer can only be used as the first layer in a model:\n",
    "\n",
    "```python\n",
    "model = tf.keras.Sequential()\n",
    "model.add(tf.keras.layers.Embedding(input_dim=1000, output_dim=64, input_length=10))\n",
    "...\n",
    "```"
   ]
  },
  {
   "cell_type": "code",
   "execution_count": 13,
   "metadata": {},
   "outputs": [],
   "source": [
    "embedding_layer = tf.keras.layers.Embedding(input_dim=100, output_dim=5, input_length=None)"
   ]
  },
  {
   "cell_type": "code",
   "execution_count": 14,
   "metadata": {},
   "outputs": [
    {
     "name": "stdout",
     "output_type": "stream",
     "text": [
      "(1, 5)\n",
      "Embedding of entity with index 0:  [ 0.01370109  0.00674504 -0.01551343 -0.02651358  0.03164527]\n",
      "Embedding of entity with index 1:  [-0.04368597 -0.04990946 -0.02448108 -0.02446034  0.02371568]\n",
      "Embedding of entity with index 2:  [-0.01348905 -0.01883294 -0.04547383 -0.03443443 -0.03732327]\n"
     ]
    }
   ],
   "source": [
    "vector_ind_0 = embedding_layer(tf.constant([0]))\n",
    "vector_ind_1 = embedding_layer(tf.constant([1]))\n",
    "vector_ind_2 = embedding_layer(tf.constant([2]))\n",
    "\n",
    "print(vector_ind_0.shape)\n",
    "print('Embedding of entity with index 0: ', vector_ind_0.numpy().flatten())\n",
    "print('Embedding of entity with index 1: ', vector_ind_1.numpy().flatten())\n",
    "print('Embedding of entity with index 2: ', vector_ind_2.numpy().flatten())"
   ]
  },
  {
   "cell_type": "code",
   "execution_count": 15,
   "metadata": {},
   "outputs": [
    {
     "name": "stdout",
     "output_type": "stream",
     "text": [
      "input sequence [0, 1, 2, 1]\n",
      "sequence embeddings shape (4, 5)\n",
      "sequence embeddings [[ 0.01370109  0.00674504 -0.01551343 -0.02651358  0.03164527]\n",
      " [-0.04368597 -0.04990946 -0.02448108 -0.02446034  0.02371568]\n",
      " [-0.01348905 -0.01883294 -0.04547383 -0.03443443 -0.03732327]\n",
      " [-0.04368597 -0.04990946 -0.02448108 -0.02446034  0.02371568]]\n"
     ]
    }
   ],
   "source": [
    "input_sequence = [0, 1, 2, 1]\n",
    "print('input sequence', input_sequence)\n",
    "sequence = embedding_layer(tf.constant(input_sequence))\n",
    "print('sequence embeddings shape', sequence.shape)\n",
    "print('sequence embeddings', sequence.numpy())"
   ]
  },
  {
   "cell_type": "markdown",
   "metadata": {},
   "source": [
    "### Visualize Embeddings"
   ]
  },
  {
   "cell_type": "code",
   "execution_count": 16,
   "metadata": {},
   "outputs": [
    {
     "name": "stdout",
     "output_type": "stream",
     "text": [
      "Epoch 1/10\n",
      "49/49 [==============================] - 2s 39ms/step - loss: 0.6929 - accuracy: 0.5000 - val_loss: 0.6923 - val_accuracy: 0.5031\n",
      "Epoch 2/10\n",
      " 3/49 [>.............................] - ETA: 1s - loss: 0.6920 - accuracy: 0.5111"
     ]
    },
    {
     "name": "stderr",
     "output_type": "stream",
     "text": [
      "2023-06-15 15:16:30.404266: W tensorflow/core/kernels/data/cache_dataset_ops.cc:856] The calling iterator did not fully read the dataset being cached. In order to avoid unexpected truncation of the dataset, the partially cached contents of the dataset  will be discarded. This can happen if you have an input pipeline similar to `dataset.cache().take(k).repeat()`. You should use `dataset.take(k).cache().repeat()` instead.\n"
     ]
    },
    {
     "name": "stdout",
     "output_type": "stream",
     "text": [
      "49/49 [==============================] - 2s 37ms/step - loss: 0.6905 - accuracy: 0.5000 - val_loss: 0.6881 - val_accuracy: 0.5031\n",
      "Epoch 3/10\n",
      " 5/49 [==>...........................] - ETA: 1s - loss: 0.6873 - accuracy: 0.4996"
     ]
    },
    {
     "name": "stderr",
     "output_type": "stream",
     "text": [
      "2023-06-15 15:16:32.249895: W tensorflow/core/kernels/data/cache_dataset_ops.cc:856] The calling iterator did not fully read the dataset being cached. In order to avoid unexpected truncation of the dataset, the partially cached contents of the dataset  will be discarded. This can happen if you have an input pipeline similar to `dataset.cache().take(k).repeat()`. You should use `dataset.take(k).cache().repeat()` instead.\n"
     ]
    },
    {
     "name": "stdout",
     "output_type": "stream",
     "text": [
      "49/49 [==============================] - 2s 37ms/step - loss: 0.6810 - accuracy: 0.5006 - val_loss: 0.6719 - val_accuracy: 0.5088\n",
      "Epoch 4/10\n",
      " 5/49 [==>...........................] - ETA: 1s - loss: 0.6700 - accuracy: 0.5133"
     ]
    },
    {
     "name": "stderr",
     "output_type": "stream",
     "text": [
      "2023-06-15 15:16:34.075417: W tensorflow/core/kernels/data/cache_dataset_ops.cc:856] The calling iterator did not fully read the dataset being cached. In order to avoid unexpected truncation of the dataset, the partially cached contents of the dataset  will be discarded. This can happen if you have an input pipeline similar to `dataset.cache().take(k).repeat()`. You should use `dataset.take(k).cache().repeat()` instead.\n"
     ]
    },
    {
     "name": "stdout",
     "output_type": "stream",
     "text": [
      "49/49 [==============================] - 2s 37ms/step - loss: 0.6519 - accuracy: 0.5262 - val_loss: 0.6343 - val_accuracy: 0.5570\n",
      "Epoch 5/10\n",
      " 3/49 [>.............................] - ETA: 1s - loss: 0.6344 - accuracy: 0.5521"
     ]
    },
    {
     "name": "stderr",
     "output_type": "stream",
     "text": [
      "2023-06-15 15:16:35.901943: W tensorflow/core/kernels/data/cache_dataset_ops.cc:856] The calling iterator did not fully read the dataset being cached. In order to avoid unexpected truncation of the dataset, the partially cached contents of the dataset  will be discarded. This can happen if you have an input pipeline similar to `dataset.cache().take(k).repeat()`. You should use `dataset.take(k).cache().repeat()` instead.\n"
     ]
    },
    {
     "name": "stdout",
     "output_type": "stream",
     "text": [
      "49/49 [==============================] - 2s 37ms/step - loss: 0.6024 - accuracy: 0.5949 - val_loss: 0.5817 - val_accuracy: 0.5847\n",
      "Epoch 6/10\n",
      " 5/49 [==>...........................] - ETA: 1s - loss: 0.5559 - accuracy: 0.6293"
     ]
    },
    {
     "name": "stderr",
     "output_type": "stream",
     "text": [
      "2023-06-15 15:16:37.768748: W tensorflow/core/kernels/data/cache_dataset_ops.cc:856] The calling iterator did not fully read the dataset being cached. In order to avoid unexpected truncation of the dataset, the partially cached contents of the dataset  will be discarded. This can happen if you have an input pipeline similar to `dataset.cache().take(k).repeat()`. You should use `dataset.take(k).cache().repeat()` instead.\n"
     ]
    },
    {
     "name": "stdout",
     "output_type": "stream",
     "text": [
      "49/49 [==============================] - 2s 38ms/step - loss: 0.5438 - accuracy: 0.6700 - val_loss: 0.5236 - val_accuracy: 0.7198\n",
      "Epoch 7/10\n",
      " 5/49 [==>...........................] - ETA: 1s - loss: 0.4952 - accuracy: 0.7426"
     ]
    },
    {
     "name": "stderr",
     "output_type": "stream",
     "text": [
      "2023-06-15 15:16:39.657745: W tensorflow/core/kernels/data/cache_dataset_ops.cc:856] The calling iterator did not fully read the dataset being cached. In order to avoid unexpected truncation of the dataset, the partially cached contents of the dataset  will be discarded. This can happen if you have an input pipeline similar to `dataset.cache().take(k).repeat()`. You should use `dataset.take(k).cache().repeat()` instead.\n"
     ]
    },
    {
     "name": "stdout",
     "output_type": "stream",
     "text": [
      "49/49 [==============================] - 2s 38ms/step - loss: 0.4868 - accuracy: 0.7434 - val_loss: 0.4746 - val_accuracy: 0.7955\n",
      "Epoch 8/10\n",
      " 5/49 [==>...........................] - ETA: 1s - loss: 0.4463 - accuracy: 0.7930"
     ]
    },
    {
     "name": "stderr",
     "output_type": "stream",
     "text": [
      "2023-06-15 15:16:41.554367: W tensorflow/core/kernels/data/cache_dataset_ops.cc:856] The calling iterator did not fully read the dataset being cached. In order to avoid unexpected truncation of the dataset, the partially cached contents of the dataset  will be discarded. This can happen if you have an input pipeline similar to `dataset.cache().take(k).repeat()`. You should use `dataset.take(k).cache().repeat()` instead.\n"
     ]
    },
    {
     "name": "stdout",
     "output_type": "stream",
     "text": [
      "49/49 [==============================] - 2s 39ms/step - loss: 0.4372 - accuracy: 0.7908 - val_loss: 0.4306 - val_accuracy: 0.7940\n",
      "Epoch 9/10\n",
      " 5/49 [==>...........................] - ETA: 1s - loss: 0.4101 - accuracy: 0.8086"
     ]
    },
    {
     "name": "stderr",
     "output_type": "stream",
     "text": [
      "2023-06-15 15:16:43.510977: W tensorflow/core/kernels/data/cache_dataset_ops.cc:856] The calling iterator did not fully read the dataset being cached. In order to avoid unexpected truncation of the dataset, the partially cached contents of the dataset  will be discarded. This can happen if you have an input pipeline similar to `dataset.cache().take(k).repeat()`. You should use `dataset.take(k).cache().repeat()` instead.\n"
     ]
    },
    {
     "name": "stdout",
     "output_type": "stream",
     "text": [
      "49/49 [==============================] - 2s 36ms/step - loss: 0.3981 - accuracy: 0.8210 - val_loss: 0.4002 - val_accuracy: 0.8279\n",
      "Epoch 10/10\n",
      " 5/49 [==>...........................] - ETA: 1s - loss: 0.3846 - accuracy: 0.8434"
     ]
    },
    {
     "name": "stderr",
     "output_type": "stream",
     "text": [
      "2023-06-15 15:16:45.326094: W tensorflow/core/kernels/data/cache_dataset_ops.cc:856] The calling iterator did not fully read the dataset being cached. In order to avoid unexpected truncation of the dataset, the partially cached contents of the dataset  will be discarded. This can happen if you have an input pipeline similar to `dataset.cache().take(k).repeat()`. You should use `dataset.take(k).cache().repeat()` instead.\n"
     ]
    },
    {
     "name": "stdout",
     "output_type": "stream",
     "text": [
      "49/49 [==============================] - 2s 39ms/step - loss: 0.3681 - accuracy: 0.8377 - val_loss: 0.3792 - val_accuracy: 0.8105\n"
     ]
    },
    {
     "name": "stderr",
     "output_type": "stream",
     "text": [
      "2023-06-15 15:16:47.272376: W tensorflow/core/kernels/data/cache_dataset_ops.cc:856] The calling iterator did not fully read the dataset being cached. In order to avoid unexpected truncation of the dataset, the partially cached contents of the dataset  will be discarded. This can happen if you have an input pipeline similar to `dataset.cache().take(k).repeat()`. You should use `dataset.take(k).cache().repeat()` instead.\n"
     ]
    }
   ],
   "source": [
    "vocab_size = 4000\n",
    "max_sequence_length = None #120 \n",
    "embedding_size = 128\n",
    "\n",
    "\n",
    "preprocessing = tf.keras.layers.experimental.preprocessing.TextVectorization(\n",
    "    max_tokens=vocab_size, output_sequence_length=max_sequence_length)\n",
    "preprocessing.adapt(train_dataset.map(lambda text, label: text))\n",
    "\n",
    "\n",
    "# Create an embedding layer\n",
    "embedding_dim = 16\n",
    "embedding = tf.keras.layers.Embedding(vocab_size, embedding_dim)\n",
    "# Train this embedding as part of a keras model\n",
    "model = tf.keras.Sequential(\n",
    "    [\n",
    "        preprocessing,\n",
    "        embedding, \n",
    "        tf.keras.layers.GlobalAveragePooling1D(),\n",
    "        tf.keras.layers.Dense(64, activation=\"relu\"),\n",
    "        tf.keras.layers.Dense(1),\n",
    "    ]\n",
    ")\n",
    "\n",
    "# Compile model\n",
    "model.compile(\n",
    "    optimizer=\"adam\",\n",
    "    loss=tf.keras.losses.BinaryCrossentropy(from_logits=True),\n",
    "    metrics=[\"accuracy\"],\n",
    ")\n",
    "\n",
    "# Train model\n",
    "history = model.fit(\n",
    "    train_dataset, epochs=10, validation_data=test_dataset, validation_steps=25\n",
    ")"
   ]
  },
  {
   "cell_type": "markdown",
   "metadata": {},
   "source": [
    "#### Saving data for TensorBoard\n",
    "\n",
    "TensorBoard reads tensors and metadata from your tensorflow projects from the logs in the specified `log_dir` directory. For this tutorial, we will be using `/logs/imdb-example/`.\n",
    "\n",
    "In order to visualize this data, we will be saving a checkpoint to that directory, along with metadata to understand which layer to visualize."
   ]
  },
  {
   "cell_type": "code",
   "execution_count": null,
   "metadata": {},
   "outputs": [],
   "source": [
    "voc = preprocessing.get_vocabulary()\n",
    "word_index = dict(zip(voc, range(len(voc))))"
   ]
  },
  {
   "cell_type": "code",
   "execution_count": null,
   "metadata": {},
   "outputs": [],
   "source": [
    "%load_ext tensorboard"
   ]
  },
  {
   "cell_type": "code",
   "execution_count": null,
   "metadata": {},
   "outputs": [],
   "source": [
    "from tensorboard.plugins import projector\n",
    "import os\n",
    "# Set up a logs directory, so Tensorboard knows where to look for files\n",
    "log_dir = './logs/imdb-example/'\n",
    "if not os.path.exists(log_dir):\n",
    "    os.makedirs(log_dir)\n",
    "\n",
    "# Save Labels separately on a line-by-line manner.\n",
    "with open(os.path.join(log_dir, 'metadata.tsv'), \"w\") as f:\n",
    "    for word, _ in word_index.items():\n",
    "        f.write(\"{}\\n\".format(word))\n",
    "    \n",
    "\n",
    "weights = tf.Variable(model.layers[1].get_weights()[0])\n",
    "# Create a checkpoint from embedding, the filename and key are\n",
    "# name of the tensor.\n",
    "checkpoint = tf.train.Checkpoint(embedding=weights)\n",
    "checkpoint.save(os.path.join(log_dir, \"embedding.ckpt\"))\n",
    "\n",
    "# Set up config\n",
    "config = projector.ProjectorConfig()\n",
    "embedding = config.embeddings.add()\n",
    "# The name of the tensor will be suffixed by `/.ATTRIBUTES/VARIABLE_VALUE`\n",
    "embedding.tensor_name = \"embedding/.ATTRIBUTES/VARIABLE_VALUE\"\n",
    "embedding.metadata_path = 'metadata.tsv'\n",
    "projector.visualize_embeddings(log_dir, config)"
   ]
  },
  {
   "cell_type": "code",
   "execution_count": null,
   "metadata": {},
   "outputs": [],
   "source": [
    "%tensorboard --logdir ./logs/imdb-example/"
   ]
  },
  {
   "cell_type": "markdown",
   "metadata": {
    "id": "bjUqGVBxGw-t"
   },
   "source": [
    "## Create the model"
   ]
  },
  {
   "cell_type": "markdown",
   "metadata": {
    "id": "XAnutC5_za1z"
   },
   "source": [
    "The embedding layer [uses masking](https://www.tensorflow.org/guide/keras/masking_and_padding) to handle the varying sequence-lengths. Configure the embedding layer with `mask_zero=True`.\n"
   ]
  },
  {
   "cell_type": "code",
   "execution_count": 17,
   "metadata": {},
   "outputs": [],
   "source": [
    "# Define the vocabulary size\n",
    "vocab_size = 5000\n",
    "\n",
    "# Define the maximum sequence length\n",
    "max_sequence_length = None # or set to a fixed value such as 120\n",
    "\n",
    "# Create a TextVectorization layer to preprocess the text\n",
    "preprocessing = layers.experimental.preprocessing.TextVectorization(\n",
    "    max_tokens=vocab_size, output_sequence_length=max_sequence_length)\n",
    "\n",
    "# Adapt the TextVectorization layer to the training data\n",
    "preprocessing.adapt(train_dataset.map(lambda text, label: text))"
   ]
  },
  {
   "cell_type": "code",
   "execution_count": 18,
   "metadata": {
    "id": "W7zsmInBOCPO"
   },
   "outputs": [],
   "source": [
    "embedding_size = 32\n",
    "\n",
    "# Define the input layer for the text\n",
    "inputs = tf.keras.layers.Input(shape=(1,), dtype=tf.string)\n",
    "\n",
    "# Preprocess the text using the TextVectorization layer\n",
    "x = preprocessing(inputs)\n",
    "\n",
    "# Define the embedding layer and apply it to the preprocessed text\n",
    "x = tf.keras.layers.Embedding(\n",
    "        input_dim=len(preprocessing.get_vocabulary()),\n",
    "        output_dim=embedding_size,\n",
    "        # Use masking to handle the variable sequence lengths\n",
    "        mask_zero=True)(x)\n",
    "\n",
    "x = tf.keras.layers.GRU(32)(x)\n",
    "outputs = tf.keras.layers.Dense(1, activation='sigmoid')(x)\n",
    "\n",
    "# Define the model\n",
    "model = tf.keras.Model(inputs=inputs, outputs=outputs)"
   ]
  },
  {
   "cell_type": "code",
   "execution_count": 19,
   "metadata": {
    "colab": {
     "base_uri": "https://localhost:8080/"
    },
    "id": "gHaBujjlCsnf",
    "outputId": "3f32d211-594f-477a-fa25-85e26629650e"
   },
   "outputs": [
    {
     "name": "stdout",
     "output_type": "stream",
     "text": [
      "[True, False, True, True, True]\n"
     ]
    }
   ],
   "source": [
    "print([layer.supports_masking for layer in model.layers])"
   ]
  },
  {
   "cell_type": "markdown",
   "metadata": {
    "id": "sRI776ZcH3Tf"
   },
   "source": [
    "Compile the Keras model to configure the training process:"
   ]
  },
  {
   "cell_type": "code",
   "execution_count": 20,
   "metadata": {},
   "outputs": [],
   "source": [
    "es_callback = tf.keras.callbacks.EarlyStopping(\n",
    "    monitor='val_loss',\n",
    "    patience=2,\n",
    "    restore_best_weights=True,\n",
    ")"
   ]
  },
  {
   "cell_type": "code",
   "execution_count": 21,
   "metadata": {
    "colab": {
     "base_uri": "https://localhost:8080/"
    },
    "execution": {
     "iopub.execute_input": "2021-01-13T03:51:29.543266Z",
     "iopub.status.busy": "2021-01-13T03:51:29.542210Z",
     "iopub.status.idle": "2021-01-13T03:51:29.554230Z",
     "shell.execute_reply": "2021-01-13T03:51:29.554650Z"
    },
    "id": "kj2xei41YZjC",
    "outputId": "e6117ef7-73b8-4e8a-ca62-a9b9c3ae0e1d"
   },
   "outputs": [
    {
     "name": "stdout",
     "output_type": "stream",
     "text": [
      "Epoch 1/5\n",
      "49/49 [==============================] - 82s 2s/step - loss: 0.6811 - accuracy: 0.5997 - val_loss: 0.6403 - val_accuracy: 0.6805\n",
      "Epoch 2/5\n"
     ]
    },
    {
     "name": "stderr",
     "output_type": "stream",
     "text": [
      "2023-06-15 15:18:10.656683: W tensorflow/core/kernels/data/cache_dataset_ops.cc:856] The calling iterator did not fully read the dataset being cached. In order to avoid unexpected truncation of the dataset, the partially cached contents of the dataset  will be discarded. This can happen if you have an input pipeline similar to `dataset.cache().take(k).repeat()`. You should use `dataset.take(k).cache().repeat()` instead.\n"
     ]
    },
    {
     "name": "stdout",
     "output_type": "stream",
     "text": [
      "49/49 [==============================] - 85s 2s/step - loss: 0.4369 - accuracy: 0.8027 - val_loss: 0.3598 - val_accuracy: 0.8516\n",
      "Epoch 3/5\n"
     ]
    },
    {
     "name": "stderr",
     "output_type": "stream",
     "text": [
      "2023-06-15 15:19:36.153312: W tensorflow/core/kernels/data/cache_dataset_ops.cc:856] The calling iterator did not fully read the dataset being cached. In order to avoid unexpected truncation of the dataset, the partially cached contents of the dataset  will be discarded. This can happen if you have an input pipeline similar to `dataset.cache().take(k).repeat()`. You should use `dataset.take(k).cache().repeat()` instead.\n"
     ]
    },
    {
     "name": "stdout",
     "output_type": "stream",
     "text": [
      "49/49 [==============================] - 90s 2s/step - loss: 0.2939 - accuracy: 0.8806 - val_loss: 0.3307 - val_accuracy: 0.8586\n",
      "Epoch 4/5\n"
     ]
    },
    {
     "name": "stderr",
     "output_type": "stream",
     "text": [
      "2023-06-15 15:21:05.839878: W tensorflow/core/kernels/data/cache_dataset_ops.cc:856] The calling iterator did not fully read the dataset being cached. In order to avoid unexpected truncation of the dataset, the partially cached contents of the dataset  will be discarded. This can happen if you have an input pipeline similar to `dataset.cache().take(k).repeat()`. You should use `dataset.take(k).cache().repeat()` instead.\n"
     ]
    },
    {
     "name": "stdout",
     "output_type": "stream",
     "text": [
      "49/49 [==============================] - 92s 2s/step - loss: 0.2478 - accuracy: 0.9060 - val_loss: 0.3317 - val_accuracy: 0.8676\n",
      "Epoch 5/5\n"
     ]
    },
    {
     "name": "stderr",
     "output_type": "stream",
     "text": [
      "2023-06-15 15:22:37.665266: W tensorflow/core/kernels/data/cache_dataset_ops.cc:856] The calling iterator did not fully read the dataset being cached. In order to avoid unexpected truncation of the dataset, the partially cached contents of the dataset  will be discarded. This can happen if you have an input pipeline similar to `dataset.cache().take(k).repeat()`. You should use `dataset.take(k).cache().repeat()` instead.\n"
     ]
    },
    {
     "name": "stdout",
     "output_type": "stream",
     "text": [
      "49/49 [==============================] - 89s 2s/step - loss: 0.2259 - accuracy: 0.9163 - val_loss: 0.3516 - val_accuracy: 0.8637\n"
     ]
    },
    {
     "name": "stderr",
     "output_type": "stream",
     "text": [
      "2023-06-15 15:24:06.366136: W tensorflow/core/kernels/data/cache_dataset_ops.cc:856] The calling iterator did not fully read the dataset being cached. In order to avoid unexpected truncation of the dataset, the partially cached contents of the dataset  will be discarded. This can happen if you have an input pipeline similar to `dataset.cache().take(k).repeat()`. You should use `dataset.take(k).cache().repeat()` instead.\n"
     ]
    }
   ],
   "source": [
    "model.compile(loss='BinaryCrossentropy',\n",
    "              optimizer='adam',\n",
    "              metrics=['accuracy'])\n",
    "history = model.fit(train_dataset, epochs=5,\n",
    "                    validation_data=test_dataset, \n",
    "                    validation_steps=5, callbacks=[es_callback])"
   ]
  },
  {
   "cell_type": "code",
   "execution_count": 22,
   "metadata": {
    "colab": {
     "base_uri": "https://localhost:8080/"
    },
    "execution": {
     "iopub.execute_input": "2021-01-13T03:57:17.842766Z",
     "iopub.status.busy": "2021-01-13T03:57:17.841687Z",
     "iopub.status.idle": "2021-01-13T03:57:34.265776Z",
     "shell.execute_reply": "2021-01-13T03:57:34.265216Z"
    },
    "id": "BaNbXi43YgUT",
    "outputId": "a4bf81cf-c8be-4f26-9032-da2998bada37"
   },
   "outputs": [
    {
     "name": "stdout",
     "output_type": "stream",
     "text": [
      "49/49 [==============================] - 20s 412ms/step - loss: 0.3259 - accuracy: 0.8641\n",
      "Test Loss: 0.3258638381958008\n",
      "Test Accuracy: 0.864080011844635\n"
     ]
    }
   ],
   "source": [
    "results = model.evaluate(test_dataset)\n",
    "\n",
    "print('Test Loss: {}'.format(results[0]))\n",
    "print('Test Accuracy: {}'.format(results[1]))"
   ]
  },
  {
   "cell_type": "code",
   "execution_count": 23,
   "metadata": {
    "colab": {
     "base_uri": "https://localhost:8080/",
     "height": 389
    },
    "execution": {
     "iopub.execute_input": "2021-01-13T03:57:34.284326Z",
     "iopub.status.busy": "2021-01-13T03:57:34.283544Z",
     "iopub.status.idle": "2021-01-13T03:57:34.574582Z",
     "shell.execute_reply": "2021-01-13T03:57:34.575021Z"
    },
    "id": "OZmwt_mzaQJk",
    "outputId": "3f0bb471-a92c-4cdd-d3fd-89f01ec267f4"
   },
   "outputs": [
    {
     "data": {
      "image/png": "[encoded data removed]",
      "text/plain": [
       "<Figure size 1600x600 with 2 Axes>"
      ]
     },
     "metadata": {},
     "output_type": "display_data"
    }
   ],
   "source": [
    "import pandas as pd\n",
    "def show_loss_accuracy_evolution(history):\n",
    "    \n",
    "    hist = pd.DataFrame(history.history)\n",
    "    hist['epoch'] = history.epoch\n",
    "\n",
    "    fig, (ax1, ax2) = plt.subplots(1, 2, figsize=(16, 6))\n",
    "\n",
    "    ax1.set_xlabel('Epoch')\n",
    "    ax1.set_ylabel('Sparse Categorical Crossentropy')\n",
    "    ax1.plot(hist['epoch'], hist['loss'], label='Train Error')\n",
    "    ax1.plot(hist['epoch'], hist['val_loss'], label = 'Val Error')\n",
    "    ax1.grid()\n",
    "    ax1.legend()\n",
    "\n",
    "    ax2.set_xlabel('Epoch')\n",
    "    ax2.set_ylabel('Accuracy')\n",
    "    ax2.plot(hist['epoch'], hist['accuracy'], label='Train Accuracy')\n",
    "    ax2.plot(hist['epoch'], hist['val_accuracy'], label = 'Val Accuracy')\n",
    "    ax2.grid()\n",
    "    ax2.legend()\n",
    "\n",
    "    plt.show()\n",
    "\n",
    "show_loss_accuracy_evolution(history)"
   ]
  },
  {
   "cell_type": "markdown",
   "metadata": {
    "id": "DwSE_386uhxD"
   },
   "source": [
    "Run a prediction on a new sentence:\n",
    "\n",
    "If the prediction is >= 0.5, it is positive else it is negative."
   ]
  },
  {
   "cell_type": "code",
   "execution_count": 24,
   "metadata": {
    "colab": {
     "base_uri": "https://localhost:8080/"
    },
    "execution": {
     "iopub.execute_input": "2021-01-13T03:57:34.579884Z",
     "iopub.status.busy": "2021-01-13T03:57:34.579199Z",
     "iopub.status.idle": "2021-01-13T03:57:36.666160Z",
     "shell.execute_reply": "2021-01-13T03:57:36.665530Z"
    },
    "id": "ZXgfQSgRW6zU",
    "outputId": "11af19a8-6bcd-4c00-8add-6edceb38c7c7"
   },
   "outputs": [
    {
     "name": "stdout",
     "output_type": "stream",
     "text": [
      "1/1 [==============================] - 0s 387ms/step\n",
      "\n",
      "the film was really bad and i am very disappointed\n",
      "Sentiment:  0.26\n",
      "\n",
      "The film was very funny entertaining and good we had a great time . brilliant film\n",
      "Sentiment:  0.96\n",
      "\n",
      "this film was just brilliant\n",
      "Sentiment:  0.59\n",
      "\n",
      "This movie has been a disaster\n",
      "Sentiment:  0.3\n",
      "\n",
      "the movie is not bad\n",
      "Sentiment:  0.19\n"
     ]
    }
   ],
   "source": [
    "reviews = ['the film was really bad and i am very disappointed',\n",
    "           'The film was very funny entertaining and good we had a great time . brilliant film',\n",
    "           'this film was just brilliant',\n",
    "          'This movie has been a disaster',\n",
    "           'the movie is not bad']\n",
    "predictions = model.predict(np.array(reviews))\n",
    "\n",
    "for review, pred in zip(reviews, predictions.flatten()):\n",
    "    print()\n",
    "    print(review)\n",
    "    print('Sentiment: ', np.round(pred, 2))"
   ]
  },
  {
   "cell_type": "markdown",
   "metadata": {
    "id": "Y3dKjEfxza11"
   },
   "source": [
    "### Question 1: Change the  `vocab_size`, `max_sequence_length` and embedding dimension too compare the results"
   ]
  },
  {
   "cell_type": "code",
   "execution_count": 25,
   "metadata": {
    "id": "2afzL1_Pza11"
   },
   "outputs": [],
   "source": [
    "vocab_size = 1000 # Number of words\n",
    "max_sequence_length = 60#None# 100  # Max length of a sentence \n",
    "embedding_size = 128## embedding dimension"
   ]
  },
  {
   "cell_type": "code",
   "execution_count": 26,
   "metadata": {},
   "outputs": [],
   "source": [
    "# Create a TextVectorization layer to preprocess the text\n",
    "preprocessing = layers.experimental.preprocessing.TextVectorization(\n",
    "    max_tokens=vocab_size, output_sequence_length=max_sequence_length)\n",
    "\n",
    "# Adapt the TextVectorization layer to the training data\n",
    "preprocessing.adapt(train_dataset.map(lambda text, label: text))"
   ]
  },
  {
   "cell_type": "code",
   "execution_count": 27,
   "metadata": {
    "id": "TClSc-vqza11"
   },
   "outputs": [],
   "source": [
    "\n",
    "# Define the input layer for the text\n",
    "inputs = tf.keras.layers.Input(shape=(1,), dtype=tf.string)\n",
    "\n",
    "# Preprocess the text using the TextVectorization layer\n",
    "x = preprocessing(inputs)\n",
    "\n",
    "# Define the embedding layer and apply it to the preprocessed text\n",
    "x = tf.keras.layers.Embedding(\n",
    "        input_dim=len(preprocessing.get_vocabulary()),\n",
    "        output_dim=embedding_size,\n",
    "        # Use masking to handle the variable sequence lengths\n",
    "        mask_zero=True)(x)\n",
    "\n",
    "x = tf.keras.layers.GRU(32)(x)\n",
    "outputs = tf.keras.layers.Dense(1, activation='sigmoid')(x)\n",
    "\n",
    "# Define the model\n",
    "model = tf.keras.Model(inputs=inputs, outputs=outputs)"
   ]
  },
  {
   "cell_type": "code",
   "execution_count": 28,
   "metadata": {
    "colab": {
     "base_uri": "https://localhost:8080/",
     "height": 781
    },
    "id": "rGr66Ofrza11",
    "outputId": "f15ac9d8-ae9c-4659-d20c-6c2d8882dd8d"
   },
   "outputs": [
    {
     "name": "stdout",
     "output_type": "stream",
     "text": [
      "Epoch 1/10\n",
      "49/49 [==============================] - 8s 138ms/step - loss: 0.6857 - accuracy: 0.5491 - val_loss: 0.6615 - val_accuracy: 0.6129\n",
      "Epoch 2/10\n",
      "49/49 [==============================] - 6s 120ms/step - loss: 0.5432 - accuracy: 0.7284 - val_loss: 0.5027 - val_accuracy: 0.7590\n",
      "Epoch 3/10\n",
      "49/49 [==============================] - 6s 126ms/step - loss: 0.4842 - accuracy: 0.7670 - val_loss: 0.4973 - val_accuracy: 0.7668\n",
      "Epoch 4/10\n",
      "49/49 [==============================] - 7s 133ms/step - loss: 0.4736 - accuracy: 0.7764 - val_loss: 0.4983 - val_accuracy: 0.7660\n",
      "Epoch 5/10\n",
      "49/49 [==============================] - 7s 143ms/step - loss: 0.4676 - accuracy: 0.7812 - val_loss: 0.4993 - val_accuracy: 0.7613\n",
      "Epoch 6/10\n",
      "49/49 [==============================] - 7s 142ms/step - loss: 0.4672 - accuracy: 0.7800 - val_loss: 0.4930 - val_accuracy: 0.7652\n",
      "Epoch 7/10\n",
      "49/49 [==============================] - 6s 123ms/step - loss: 0.4568 - accuracy: 0.7857 - val_loss: 0.4913 - val_accuracy: 0.7691\n",
      "Epoch 8/10\n",
      "49/49 [==============================] - 6s 127ms/step - loss: 0.4520 - accuracy: 0.7883 - val_loss: 0.4939 - val_accuracy: 0.7637\n",
      "Epoch 9/10\n",
      "49/49 [==============================] - 7s 135ms/step - loss: 0.4476 - accuracy: 0.7894 - val_loss: 0.4919 - val_accuracy: 0.7672\n",
      "Epoch 10/10\n",
      "49/49 [==============================] - 7s 136ms/step - loss: 0.4404 - accuracy: 0.7930 - val_loss: 0.4942 - val_accuracy: 0.7648\n"
     ]
    },
    {
     "data": {
      "image/png": "[encoded data removed]",
      "text/plain": [
       "<Figure size 1600x600 with 2 Axes>"
      ]
     },
     "metadata": {},
     "output_type": "display_data"
    },
    {
     "name": "stdout",
     "output_type": "stream",
     "text": [
      "49/49 [==============================] - 3s 53ms/step - loss: 0.4993 - accuracy: 0.7546\n",
      "Test Loss: 0.49933505058288574\n",
      "Test Accuracy: 0.7545599937438965\n"
     ]
    }
   ],
   "source": [
    "model.compile(loss='BinaryCrossentropy',\n",
    "              optimizer='adam',\n",
    "              metrics=['accuracy'])\n",
    "history = model.fit(train_dataset, epochs=10,\n",
    "                    validation_data=test_dataset, \n",
    "                    validation_steps=5)\n",
    "show_loss_accuracy_evolution(history)\n",
    "\n",
    "results = model.evaluate(test_dataset)\n",
    "\n",
    "print('Test Loss: {}'.format(results[0]))\n",
    "print('Test Accuracy: {}'.format(results[1]))"
   ]
  },
  {
   "cell_type": "code",
   "execution_count": 29,
   "metadata": {
    "colab": {
     "base_uri": "https://localhost:8080/"
    },
    "id": "o2USmk_2za12",
    "outputId": "9d181365-e2cb-4c4b-9333-cba2261ca194"
   },
   "outputs": [
    {
     "name": "stdout",
     "output_type": "stream",
     "text": [
      "1/1 [==============================] - 0s 359ms/step\n",
      "\n",
      "the film was really bad and i am very disappointed\n",
      "Sentiment:  0.2\n",
      "\n",
      "The film was very funny entertaining and good we had a great time . brilliant film\n",
      "Sentiment:  0.92\n",
      "\n",
      "this film was just brilliant\n",
      "Sentiment:  0.76\n",
      "\n",
      "This movie has been a disaster\n",
      "Sentiment:  0.49\n",
      "\n",
      "the movie is not bad\n",
      "Sentiment:  0.2\n"
     ]
    }
   ],
   "source": [
    "reviews = ['the film was really bad and i am very disappointed',\n",
    "           'The film was very funny entertaining and good we had a great time . brilliant film',\n",
    "           'this film was just brilliant',\n",
    "          'This movie has been a disaster', 'the movie is not bad']\n",
    "predictions = model.predict(np.array(reviews))\n",
    "\n",
    "for review, pred in zip(reviews, predictions.flatten()):\n",
    "    print()\n",
    "    print(review)\n",
    "    print('Sentiment: ', np.round(pred, 2))"
   ]
  },
  {
   "cell_type": "markdown",
   "metadata": {
    "id": "l8b3mwVXza12"
   },
   "source": [
    "### Question 2: Use a convolutional   network instead of a RNN\n",
    "\n",
    "```python\n",
    "tf.keras.layers.Conv1D(\n",
    "    filters, kernel_size\n",
    ")\n",
    "```\n",
    "\n",
    "```python\n",
    "tf.keras.layers.MaxPool1D(\n",
    "    pool_size=2\n",
    ")\n",
    "```\n",
    "\n",
    "```python\n",
    "tf.keras.layers.Flatten()\n",
    "```"
   ]
  },
  {
   "cell_type": "code",
   "execution_count": 30,
   "metadata": {
    "id": "ftOTfyU7za12"
   },
   "outputs": [],
   "source": [
    "vocab_size = 5000 # Number of words\n",
    "max_sequence_length = 600#None# 100  # Max length of a sentence \n",
    "embedding_size = 300## embedding dimension"
   ]
  },
  {
   "cell_type": "code",
   "execution_count": 31,
   "metadata": {},
   "outputs": [],
   "source": [
    "preprocessing = tf.keras.layers.experimental.preprocessing.TextVectorization(\n",
    "    max_tokens=vocab_size, output_sequence_length=max_sequence_length)\n",
    "preprocessing.adapt(train_dataset.map(lambda text, label: text))\n"
   ]
  },
  {
   "cell_type": "code",
   "execution_count": 33,
   "metadata": {
    "colab": {
     "base_uri": "https://localhost:8080/",
     "height": 341
    },
    "id": "5b4EzuWYE30q",
    "outputId": "40747bf6-b8cb-4eeb-a928-a2900775e77c"
   },
   "outputs": [],
   "source": [
    "# Define the input layer for the text\n",
    "inputs = tf.keras.layers.Input(shape=(1,), dtype=tf.string)\n",
    "\n",
    "# Preprocess the text using the TextVectorization layer\n",
    "x = preprocessing(inputs)\n",
    "\n",
    "# Define the embedding layer and apply it to the preprocessed text\n",
    "x = tf.keras.layers.Embedding(\n",
    "        input_dim=len(preprocessing.get_vocabulary()),\n",
    "        output_dim=embedding_size,\n",
    "        # Use masking to handle the variable sequence lengths\n",
    "        mask_zero=True)(x)\n",
    "\n",
    "\n",
    "x = layers.Conv1D(32, 3, activation='relu')(x)\n",
    "x = layers.MaxPooling1D(2)(x)\n",
    "x = layers.Conv1D(32, 3, activation='relu')(x)\n",
    "x = layers.MaxPooling1D(2)(x)\n",
    "x = layers.Flatten()(x)\n",
    "\n",
    "\n",
    "\n",
    "outputs = layers.Dense(1, activation='sigmoid')(x)\n",
    "\n",
    "model = tf.keras.Model(inputs=inputs, outputs=outputs)"
   ]
  },
  {
   "cell_type": "code",
   "execution_count": 34,
   "metadata": {
    "colab": {
     "base_uri": "https://localhost:8080/",
     "height": 609
    },
    "id": "ale2QzjPza12",
    "outputId": "aacc3c91-6545-42dc-b382-001d55a1e71a"
   },
   "outputs": [
    {
     "name": "stdout",
     "output_type": "stream",
     "text": [
      "Epoch 1/5\n",
      "49/49 [==============================] - 24s 486ms/step - loss: 0.6557 - accuracy: 0.5965 - val_loss: 0.4846 - val_accuracy: 0.7805\n",
      "Epoch 2/5\n",
      "49/49 [==============================] - 23s 463ms/step - loss: 0.3268 - accuracy: 0.8658 - val_loss: 0.2984 - val_accuracy: 0.8707\n",
      "Epoch 3/5\n",
      "49/49 [==============================] - 23s 464ms/step - loss: 0.2142 - accuracy: 0.9186 - val_loss: 0.3104 - val_accuracy: 0.8723\n",
      "Epoch 4/5\n",
      "49/49 [==============================] - 23s 469ms/step - loss: 0.1781 - accuracy: 0.9318 - val_loss: 0.3314 - val_accuracy: 0.8727\n",
      "Epoch 5/5\n",
      "49/49 [==============================] - 23s 463ms/step - loss: 0.1472 - accuracy: 0.9465 - val_loss: 0.3610 - val_accuracy: 0.8695\n"
     ]
    },
    {
     "data": {
      "image/png": "[encoded data removed]",
      "text/plain": [
       "<Figure size 1600x600 with 2 Axes>"
      ]
     },
     "metadata": {},
     "output_type": "display_data"
    },
    {
     "name": "stdout",
     "output_type": "stream",
     "text": [
      "49/49 [==============================] - 6s 130ms/step - loss: 0.3607 - accuracy: 0.8682\n",
      "Test Loss: 0.36065784096717834\n",
      "Test Accuracy: 0.8682000041007996\n"
     ]
    }
   ],
   "source": [
    "model.compile(loss='BinaryCrossentropy',\n",
    "              optimizer='adam',\n",
    "              metrics=['accuracy'])\n",
    "history = model.fit(train_dataset, epochs=5,\n",
    "                    validation_data=test_dataset, \n",
    "                    validation_steps=5)\n",
    "show_loss_accuracy_evolution(history)\n",
    "\n",
    "results = model.evaluate(test_dataset)\n",
    "\n",
    "print('Test Loss: {}'.format(results[0]))\n",
    "print('Test Accuracy: {}'.format(results[1]))"
   ]
  },
  {
   "cell_type": "code",
   "execution_count": 35,
   "metadata": {
    "colab": {
     "base_uri": "https://localhost:8080/"
    },
    "id": "-OBitCdZza12",
    "outputId": "21ebcacf-0cf7-4443-8538-4baa95c5e581"
   },
   "outputs": [
    {
     "name": "stdout",
     "output_type": "stream",
     "text": [
      "1/1 [==============================] - 0s 45ms/step\n",
      "\n",
      "the film was really bad and i am very disappointed\n",
      "Sentiment:  0.16\n",
      "\n",
      "The film was very funny entertaining and good we had a great time . brilliant film\n",
      "Sentiment:  0.96\n",
      "\n",
      "this film was just brilliant\n",
      "Sentiment:  0.85\n",
      "\n",
      "This movie has been a disaster\n",
      "Sentiment:  0.49\n",
      "\n",
      "very good\n",
      "Sentiment:  0.73\n",
      "\n",
      "film very good\n",
      "Sentiment:  0.74\n",
      "\n",
      "the film is very good\n",
      "Sentiment:  0.8\n",
      "\n",
      "the film is not good\n",
      "Sentiment:  0.68\n",
      "\n",
      "the film is not very good\n",
      "Sentiment:  0.74\n",
      "\n",
      "the movie is not bad\n",
      "Sentiment:  0.4\n",
      "\n",
      "the movie is not very bad\n",
      "Sentiment:  0.36\n"
     ]
    }
   ],
   "source": [
    "reviews = ['the film was really bad and i am very disappointed',\n",
    "           'The film was very funny entertaining and good we had a great time . brilliant film',\n",
    "           'this film was just brilliant',\n",
    "           'This movie has been a disaster',\n",
    "           'very good',\n",
    "           'film very good',\n",
    "           'the film is very good',\n",
    "           'the film is not good',\n",
    "           'the film is not very good',\n",
    "           'the movie is not bad',\n",
    "           'the movie is not very bad']\n",
    "predictions = model.predict(np.array(reviews))\n",
    "\n",
    "for review, pred in zip(reviews, predictions.flatten()):\n",
    "    print()\n",
    "    print(review)\n",
    "    print('Sentiment: ', np.round(pred, 2))"
   ]
  },
  {
   "cell_type": "markdown",
   "metadata": {
    "id": "oNGpTev1za12"
   },
   "source": [
    "## Generalization\n",
    "\n",
    "We are going to see, how the trained model generalizes in a new dataset.\n",
    "\n",
    "Large Yelp Review Dataset. This is a dataset for binary sentiment classification. We provide a set of 560,000 highly polar yelp reviews for training, and 38,000 for testing. ORIGIN The Yelp reviews dataset consists of reviews from Yelp. It is extracted from the Yelp Dataset Challenge 2015 data. For more information, please refer to http://www.yelp.com/dataset\n",
    "\n"
   ]
  },
  {
   "cell_type": "code",
   "execution_count": 36,
   "metadata": {
    "colab": {
     "base_uri": "https://localhost:8080/",
     "height": 418,
     "referenced_widgets": [
      "726e01a161694a7386a3e83ee26b2650",
      "442c19d1fbad488ba88853c1ed2417fe",
      "5d9ac0c4132d47baa8f6e6b00ffc8fce",
      "e92a49567abc4cfe833b50ae6d7cef82",
      "a713205f143d4e37ac75380dd4ccf9dd",
      "09a5037d6b7f4267bef11d5c81943444",
      "d0d66a43fdf14a51bcddd90fe5bf651c",
      "6ca709c36824411a919ef49f782c8d12",
      "30c80f7d3b384ed7a4ba525415a3ef5a",
      "15ad41875025485f9c2ba9f7c6b92498",
      "793ff5f4662e474183a11a0e448521f3",
      "8dddd6764bfe4a0c845407b69cd0be50",
      "a93bb57243754ab3b8a9c3cb8a78211c",
      "1fd08774574b44a1a2a36af1f643c942",
      "e14f76d510a74a9fbdbed89f76786f93",
      "fe91b6a4f32247f2aefd924544268b33",
      "df3a76b70f3f4aa19cf63c9f628b9f53",
      "31b9fd9168f14620b6f5955ea2af963b",
      "923a951e7cb3460a90db6b82e9046195",
      "ec3fe2b406254fb4a74ae16d4e77c30c",
      "8a2adb706b724582851f31b3f4fcc73b",
      "60bb67d6a3464d21bc89f38d0fc955f0",
      "8c4eb2eeb4aa48e488e4b9abdfc9ad08",
      "8b78a2eb022945dd8c73c000b96fb6bc",
      "5d4f4ec65d8c44578e148b97dc9d0a76",
      "c528c936fec741d48c0dc6eae2bca36a",
      "d8637c44c0244be2be06ed247a995295",
      "e953e6006a344777a4f7685a9bc66678",
      "835e764670d94003a44493fc0be19633",
      "2b9b7d77220043d19155315091514533",
      "bd81e2f1a0e6468ba0587d29496e727b",
      "4e4f337752c6432a898e5749a94d6375",
      "b0096931873d4b55b6b1456413f30920",
      "c1bc796e2fd749108fb946929f36eb39",
      "6cf6d946856a435c840f6e19b84ed7d4",
      "445830624f4940a0a51cb737786e4d4b",
      "6c19360285e542e9bdeb04f32204be0f",
      "9e2c70ea2ca245998ae563f83b440d8a",
      "702a25b5f8c242d197cbfd286ed6ad60",
      "ab8317f9b67a4cf7a225cf5a6faba271",
      "9026e0f46b1c429a84b4ff00a4cd07d5",
      "f2799ba998e145bf8dcf160595729e2e",
      "1e31e01a1e6f4adbb41346bac206b0e6",
      "dd12490030ad4bb381d76811f95bef5e",
      "bb4d57e2e5e5416f87e2d015125d39fb",
      "c7381148fdfe49fd949891c075a3c5f0",
      "cab8fd2390eb4481824b2a29bfca8229",
      "44224fa13a8048ab948f96e68e3e934c",
      "3b482c5205814ee5b6df6481c5616cf6",
      "5cc571e53bfb45248a2cb850b627b809",
      "b0c51846ce7d401bb67e9acf128ce52a",
      "2cad34f44fc44a8399e81fed7bb0eccf",
      "a0fbaf8346a242c1a98b67c799dad0c3",
      "fb16bdb84f0a4f1a9feeb53dac6de3d3",
      "40f498de8ffc4af38b118a090a36df08",
      "49f2acb4d2ac49b2accd62aea479e700"
     ]
    },
    "execution": {
     "iopub.execute_input": "2021-01-13T03:51:16.001184Z",
     "iopub.status.busy": "2021-01-13T03:51:16.000514Z",
     "iopub.status.idle": "2021-01-13T03:51:17.568416Z",
     "shell.execute_reply": "2021-01-13T03:51:17.568875Z"
    },
    "id": "z9D12Vexza13",
    "outputId": "be2997de-3f69-422f-c3ce-56b21594908b"
   },
   "outputs": [
    {
     "data": {
      "text/plain": [
       "(TensorSpec(shape=(), dtype=tf.string, name=None),\n",
       " TensorSpec(shape=(), dtype=tf.int64, name=None))"
      ]
     },
     "execution_count": 36,
     "metadata": {},
     "output_type": "execute_result"
    }
   ],
   "source": [
    "dataset_yelp, info = tfds.load('yelp_polarity_reviews', with_info=True,\n",
    "                          as_supervised=True)\n",
    "train_dataset_yelp, test_dataset_yelp = dataset_yelp['train'], dataset_yelp['test']\n",
    "\n",
    "train_dataset_yelp.element_spec"
   ]
  },
  {
   "cell_type": "markdown",
   "metadata": {
    "id": "8iJCsaP3za13"
   },
   "source": [
    "Initially this returns a dataset of (text, label pairs):"
   ]
  },
  {
   "cell_type": "code",
   "execution_count": 37,
   "metadata": {
    "colab": {
     "base_uri": "https://localhost:8080/"
    },
    "execution": {
     "iopub.execute_input": "2021-01-13T03:51:17.574503Z",
     "iopub.status.busy": "2021-01-13T03:51:17.573198Z",
     "iopub.status.idle": "2021-01-13T03:51:17.618857Z",
     "shell.execute_reply": "2021-01-13T03:51:17.619346Z"
    },
    "id": "vvGplW2qza13",
    "outputId": "93e07fcc-c44e-4a1a-9690-bed151e82bb1"
   },
   "outputs": [
    {
     "name": "stdout",
     "output_type": "stream",
     "text": [
      "text:  b'Was not impressed, and will not return.'\n",
      "label:  0\n",
      "text:  b'I went in to purchase overalls and was treated so rudely I had to walk out even though he had the item I wanted.  I will never step foot in this placec of business again.'\n",
      "label:  0\n"
     ]
    }
   ],
   "source": [
    "for example, label in test_dataset_yelp.take(2):\n",
    "    print('text: ', example.numpy())\n",
    "    print('label: ', label.numpy())"
   ]
  },
  {
   "cell_type": "markdown",
   "metadata": {
    "id": "6R3LG29-za13"
   },
   "source": [
    "Next shuffle the data for training and create batches of these `(text, label)` pairs:"
   ]
  },
  {
   "cell_type": "code",
   "execution_count": 38,
   "metadata": {
    "execution": {
     "iopub.execute_input": "2021-01-13T03:51:17.623697Z",
     "iopub.status.busy": "2021-01-13T03:51:17.623008Z",
     "iopub.status.idle": "2021-01-13T03:51:17.624931Z",
     "shell.execute_reply": "2021-01-13T03:51:17.625389Z"
    },
    "id": "Pof5it9sza14"
   },
   "outputs": [],
   "source": [
    "BUFFER_SIZE = 10000\n",
    "BATCH_SIZE = 128\n",
    "train_dataset_yelp = train_dataset_yelp.shuffle(BUFFER_SIZE).batch(BATCH_SIZE).prefetch(tf.data.AUTOTUNE)\n",
    "test_dataset_yelp = test_dataset_yelp.batch(BATCH_SIZE).prefetch(tf.data.AUTOTUNE)"
   ]
  },
  {
   "cell_type": "code",
   "execution_count": 39,
   "metadata": {
    "colab": {
     "base_uri": "https://localhost:8080/"
    },
    "execution": {
     "iopub.execute_input": "2021-01-13T03:51:17.629810Z",
     "iopub.status.busy": "2021-01-13T03:51:17.629159Z",
     "iopub.status.idle": "2021-01-13T03:51:17.632829Z",
     "shell.execute_reply": "2021-01-13T03:51:17.633249Z"
    },
    "id": "sXxqMK-yza14",
    "outputId": "08a6ee91-ef13-4ffd-cb44-f237d4100c57"
   },
   "outputs": [
    {
     "name": "stdout",
     "output_type": "stream",
     "text": [
      "text:  b'Was not impressed, and will not return.'\n",
      "label:  0\n"
     ]
    }
   ],
   "source": [
    "for example, label in test_dataset_yelp.take(1):\n",
    "    print('text: ', example.numpy()[0])\n",
    "    print('label: ', label.numpy()[0])"
   ]
  },
  {
   "cell_type": "markdown",
   "metadata": {
    "id": "jhVGFOnnQ8t2"
   },
   "source": [
    "### Generalization of the IMBD-model"
   ]
  },
  {
   "cell_type": "code",
   "execution_count": 40,
   "metadata": {
    "colab": {
     "base_uri": "https://localhost:8080/"
    },
    "execution": {
     "iopub.execute_input": "2021-01-13T03:51:17.638666Z",
     "iopub.status.busy": "2021-01-13T03:51:17.637321Z",
     "iopub.status.idle": "2021-01-13T03:51:17.883181Z",
     "shell.execute_reply": "2021-01-13T03:51:17.883586Z"
    },
    "id": "SpB9hZIgza14",
    "outputId": "6ac2bb5c-7bf6-4081-a06f-bc869a4930f8"
   },
   "outputs": [
    {
     "name": "stdout",
     "output_type": "stream",
     "text": [
      "297/297 [==============================] - 9s 32ms/step - loss: 0.5059 - accuracy: 0.7818\n",
      "Test Loss: 0.5058591961860657\n",
      "Test Accuracy: 0.7818421125411987\n"
     ]
    }
   ],
   "source": [
    "results = model.evaluate(test_dataset_yelp)\n",
    "\n",
    "print('Test Loss: {}'.format(results[0]))\n",
    "print('Test Accuracy: {}'.format(results[1]))"
   ]
  },
  {
   "cell_type": "markdown",
   "metadata": {
    "id": "gujasFcfRLQl"
   },
   "source": [
    "### Question 3: Create a model for the Yelp dataset and obtain `val_accuracy>0.92`"
   ]
  },
  {
   "cell_type": "code",
   "execution_count": 41,
   "metadata": {},
   "outputs": [],
   "source": [
    "embedding_size = 200\n",
    "max_sequence_length = 150\n",
    "vocab_size = 9000\n",
    "preprocessing_yelp = tf.keras.layers.experimental.preprocessing.TextVectorization(\n",
    "    max_tokens=vocab_size, output_sequence_length=max_sequence_length)\n",
    "preprocessing_yelp.adapt(train_dataset_yelp.map(lambda text, label: text))"
   ]
  },
  {
   "cell_type": "code",
   "execution_count": 42,
   "metadata": {
    "id": "b5tMk-T_Csnk"
   },
   "outputs": [],
   "source": [
    "# Define the input layer for the text\n",
    "inputs = layers.Input(shape=(1,), dtype=tf.string)\n",
    "\n",
    "# Preprocess the text using the TextVectorization layer\n",
    "x = preprocessing_yelp(inputs)\n",
    "\n",
    "# Define the embedding layer and apply it to the preprocessed text\n",
    "x = layers.Embedding(\n",
    "        input_dim=len(preprocessing_yelp.get_vocabulary()),\n",
    "        output_dim=embedding_size,\n",
    "        # Use masking to handle the variable sequence lengths\n",
    "        mask_zero=True)(x)\n",
    "\n",
    "x = tf.keras.layers.GRU(32)(x)\n",
    "\n",
    "outputs = tf.keras.layers.Dense(1, activation='sigmoid')(x)\n",
    "\n",
    "\n",
    "model_yelp = tf.keras.Model(inputs=inputs, outputs=outputs)"
   ]
  },
  {
   "cell_type": "code",
   "execution_count": 43,
   "metadata": {
    "id": "0QaBLQcSza14"
   },
   "outputs": [
    {
     "name": "stdout",
     "output_type": "stream",
     "text": [
      "4375/4375 [==============================] - 425s 97ms/step - loss: 0.2050 - accuracy: 0.9179 - val_loss: 0.1415 - val_accuracy: 0.9500\n"
     ]
    },
    {
     "data": {
      "image/png": "[encoded data removed]",
      "text/plain": [
       "<Figure size 1600x600 with 2 Axes>"
      ]
     },
     "metadata": {},
     "output_type": "display_data"
    },
    {
     "name": "stdout",
     "output_type": "stream",
     "text": [
      "297/297 [==============================] - 8s 25ms/step - loss: 0.1540 - accuracy: 0.9404\n",
      "Test Loss: 0.15395206212997437\n",
      "Test Accuracy: 0.9403684139251709\n"
     ]
    }
   ],
   "source": [
    "model_yelp.compile(loss='BinaryCrossentropy',\n",
    "              optimizer='adam',\n",
    "              metrics=['accuracy'])\n",
    "\n",
    "history = model_yelp.fit(train_dataset_yelp, epochs=1,\n",
    "                    validation_data=test_dataset_yelp, \n",
    "                    validation_steps=10)\n",
    "show_loss_accuracy_evolution(history)\n",
    "\n",
    "results = model_yelp.evaluate(test_dataset_yelp)\n",
    "\n",
    "print('Test Loss: {}'.format(results[0]))\n",
    "print('Test Accuracy: {}'.format(results[1]))"
   ]
  },
  {
   "cell_type": "code",
   "execution_count": 44,
   "metadata": {
    "colab": {
     "base_uri": "https://localhost:8080/"
    },
    "id": "K5XmeCVB4LrP",
    "outputId": "2c85ff55-af17-41e5-87c8-815e6096c35d"
   },
   "outputs": [
    {
     "name": "stdout",
     "output_type": "stream",
     "text": [
      "1/1 [==============================] - 0s 337ms/step\n",
      "\n",
      "the film was really bad and i am very disappointed\n",
      "Sentiment:  0.01\n",
      "\n",
      "The film was very funny entertaining and good we had a great time . brilliant film\n",
      "Sentiment:  0.99\n",
      "\n",
      "this film was just brilliant\n",
      "Sentiment:  0.84\n",
      "\n",
      "This movie has been a disaster\n",
      "Sentiment:  0.09\n",
      "\n",
      "very good\n",
      "Sentiment:  0.92\n",
      "\n",
      "the film isn't very good\n",
      "Sentiment:  0.28\n",
      "\n",
      "the film is very good\n",
      "Sentiment:  0.93\n",
      "\n",
      "the movie is not bad\n",
      "Sentiment:  0.61\n",
      "\n",
      "the film is not good\n",
      "Sentiment:  0.12\n",
      "\n",
      "the movie is  bad\n",
      "Sentiment:  0.18\n"
     ]
    }
   ],
   "source": [
    "reviews = ['the film was really bad and i am very disappointed',\n",
    "           'The film was very funny entertaining and good we had a great time . brilliant film',\n",
    "           'this film was just brilliant',\n",
    "          'This movie has been a disaster',\n",
    "          'very good',\n",
    "           'the film isn\\'t very good',\n",
    "           'the film is very good',\n",
    "           'the movie is not bad',\n",
    "           'the film is not good',\n",
    "           'the movie is  bad']\n",
    "predictions = model_yelp.predict(np.array(reviews))\n",
    "\n",
    "for review, pred in zip(reviews, predictions.flatten()):\n",
    "    print()\n",
    "    print(review)\n",
    "    print('Sentiment: ', np.round(pred, 2))"
   ]
  },
  {
   "cell_type": "code",
   "execution_count": 45,
   "metadata": {
    "colab": {
     "base_uri": "https://localhost:8080/"
    },
    "id": "toIfrm_14vwt",
    "outputId": "f45154b6-a9fa-4f1d-b17d-46dd8176f9b9"
   },
   "outputs": [
    {
     "name": "stdout",
     "output_type": "stream",
     "text": [
      "297/297 [==============================] - 8s 26ms/step - loss: 0.1540 - accuracy: 0.9404\n",
      "Yelp-model in Yelp dataset Test Loss: 0.15395206212997437\n",
      "Yelp-model in Yelp dataset Test Accuracy: 0.9403684139251709\n",
      "----------------------------------------------------------------------------------------------------\n",
      "297/297 [==============================] - 9s 29ms/step - loss: 0.5059 - accuracy: 0.7818\n",
      "IMBD-model in Yelp dataset Test Loss: 0.5058591961860657\n",
      "IMBD-model in Yelp dataset Test Accuracy: 0.7818421125411987\n"
     ]
    }
   ],
   "source": [
    "results = model_yelp.evaluate(test_dataset_yelp)\n",
    "\n",
    "print('Yelp-model in Yelp dataset Test Loss: {}'.format(results[0]))\n",
    "print('Yelp-model in Yelp dataset Test Accuracy: {}'.format(results[1]))\n",
    "print('--'*50)\n",
    "\n",
    "results = model.evaluate(test_dataset_yelp)\n",
    "\n",
    "print('IMBD-model in Yelp dataset Test Loss: {}'.format(results[0]))\n",
    "print('IMBD-model in Yelp dataset Test Accuracy: {}'.format(results[1]))"
   ]
  },
  {
   "cell_type": "code",
   "execution_count": 46,
   "metadata": {
    "colab": {
     "base_uri": "https://localhost:8080/"
    },
    "id": "e_wsqGz3422b",
    "outputId": "da6e4305-1d7d-4a79-ee81-c69295ae6483"
   },
   "outputs": [
    {
     "name": "stdout",
     "output_type": "stream",
     "text": [
      "49/49 [==============================] - 4s 88ms/step - loss: 0.3994 - accuracy: 0.8150\n",
      "Yelp-model in IMBD dataset Test Loss: 0.39942067861557007\n",
      "Yelp-model in IMBD dataset Test Accuracy: 0.8150399923324585\n",
      "----------------------------------------------------------------------------------------------------\n",
      "49/49 [==============================] - 6s 116ms/step - loss: 0.3607 - accuracy: 0.8682\n",
      "IMBD-model in IMBD dataset Test Loss: 0.36065784096717834\n",
      "IMBD-model in IMBD dataset Test Accuracy: 0.8682000041007996\n"
     ]
    }
   ],
   "source": [
    "results = model_yelp.evaluate(test_dataset)\n",
    "\n",
    "print('Yelp-model in IMBD dataset Test Loss: {}'.format(results[0]))\n",
    "print('Yelp-model in IMBD dataset Test Accuracy: {}'.format(results[1]))\n",
    "print('--'*50)\n",
    "\n",
    "results = model.evaluate(test_dataset)\n",
    "\n",
    "print('IMBD-model in IMBD dataset Test Loss: {}'.format(results[0]))\n",
    "print('IMBD-model in IMBD dataset Test Accuracy: {}'.format(results[1]))"
   ]
  },
  {
   "cell_type": "markdown",
   "metadata": {},
   "source": [
    "### Train the pretrained Yelp model in the IMBD dataset"
   ]
  },
  {
   "cell_type": "code",
   "execution_count": 47,
   "metadata": {},
   "outputs": [
    {
     "name": "stdout",
     "output_type": "stream",
     "text": [
      "49/49 [==============================] - 16s 321ms/step - loss: 0.3763 - accuracy: 0.8262 - val_loss: 0.3427 - val_accuracy: 0.8474\n"
     ]
    },
    {
     "data": {
      "image/png": "[encoded data removed]",
      "text/plain": [
       "<Figure size 1600x600 with 2 Axes>"
      ]
     },
     "metadata": {},
     "output_type": "display_data"
    },
    {
     "name": "stdout",
     "output_type": "stream",
     "text": [
      "49/49 [==============================] - 5s 96ms/step - loss: 0.3398 - accuracy: 0.8485\n",
      "Test Loss: 0.3397988975048065\n",
      "Test Accuracy: 0.8485199809074402\n"
     ]
    }
   ],
   "source": [
    "history = model_yelp.fit(train_dataset, epochs=1,\n",
    "                    validation_data=test_dataset, \n",
    "                    validation_steps=15)\n",
    "show_loss_accuracy_evolution(history)\n",
    "\n",
    "results = model_yelp.evaluate(test_dataset)\n",
    "\n",
    "print('Test Loss: {}'.format(results[0]))\n",
    "print('Test Accuracy: {}'.format(results[1]))"
   ]
  },
  {
   "cell_type": "code",
   "execution_count": null,
   "metadata": {},
   "outputs": [],
   "source": []
  },
  {
   "cell_type": "markdown",
   "metadata": {
    "id": "Haf49rcoza16"
   },
   "source": [
    "## Extra\n",
    "### Transfer learning: pre-trained text embeddings\n",
    "\n",
    "For this example we will use a **pre-trained text embedding model** from [TensorFlow Hub](https://tfhub.dev) called [google/nnlm-en-dim128/2](https://tfhub.dev/google/nnlm-en-dim128/2).\n",
    "\n",
    "[TensorFlow Hub](https://tfhub.dev/) has hundreds of trained, ready-to-deploy machine learning models.  You can find more [text embedding models](https://tfhub.dev/s?module-type=text-embedding) on TFHub.\n",
    "\n",
    "One way to represent the text is to convert sentences into embeddings vectors. We can use a pre-trained text embedding as the first layer, which will have three advantages:\n",
    "\n",
    "One way to represent the text is to convert sentences into embeddings vectors. We can use a pre-trained text embedding as the first layer, which will have three advantages:\n",
    "\n",
    "*   we don't have to worry about text preprocessing,\n",
    "*   we can benefit from transfer learning,\n",
    "*   the embedding has a fixed size, so it's simpler to process.\n",
    "\n",
    "For this example we will use a pre-trained text embedding model from TensorFlow Hub called google/nnlm-en-dim128/2.\n",
    "Let's first create a Keras layer that uses a TensorFlow Hub model to embed the sentences."
   ]
  },
  {
   "cell_type": "code",
   "execution_count": null,
   "metadata": {
    "id": "GwYXxtZzza16"
   },
   "outputs": [],
   "source": [
    "!pip install tensorflow-hub"
   ]
  },
  {
   "cell_type": "code",
   "execution_count": null,
   "metadata": {
    "id": "lEVBJ1G9za16"
   },
   "outputs": [],
   "source": [
    "import tensorflow_hub as hub\n",
    "\n",
    "embedding = \"https://tfhub.dev/google/nnlm-en-dim128/2\"\n",
    "hub_layer = hub.KerasLayer(embedding, input_shape=[], \n",
    "                           dtype=tf.string, trainable=True)"
   ]
  },
  {
   "cell_type": "code",
   "execution_count": null,
   "metadata": {
    "id": "Jf6SUMwhza16"
   },
   "outputs": [],
   "source": [
    "hub_layer(['The film was ok'])"
   ]
  },
  {
   "cell_type": "code",
   "execution_count": null,
   "metadata": {
    "id": "r_O_JeOeza16"
   },
   "outputs": [],
   "source": [
    "model = tf.keras.Sequential()\n",
    "model.add(hub_layer)\n",
    "model.add(tf.keras.layers.Dense(32, activation='relu'))\n",
    "model.add(tf.keras.layers.Dense(1, activation='sigmoid'))\n",
    "model.summary()"
   ]
  },
  {
   "cell_type": "code",
   "execution_count": null,
   "metadata": {
    "id": "hNlBKj1Zza16"
   },
   "outputs": [],
   "source": [
    "model.compile(loss='BinaryCrossentropy',\n",
    "              optimizer='adam',\n",
    "              metrics=['accuracy'])\n",
    "history = model.fit(train_dataset, epochs=2,\n",
    "                    validation_data=test_dataset, \n",
    "                    validation_steps=15)\n",
    "show_loss_accuracy_evolution(history)"
   ]
  },
  {
   "cell_type": "code",
   "execution_count": null,
   "metadata": {},
   "outputs": [],
   "source": [
    "results = model.evaluate(test_dataset)\n",
    "print('Test Loss: {}'.format(results[0]))\n",
    "print('Test Accuracy: {}'.format(results[1]))"
   ]
  }
 ],
 "metadata": {
  "accelerator": "GPU",
  "colab": {
   "name": "text_classification_rnn.ipynb",
   "provenance": []
  },
  "kernelspec": {
   "display_name": "Python 3 (ipykernel)",
   "language": "python",
   "name": "python3"
  },
  "language_info": {
   "codemirror_mode": {
    "name": "ipython",
    "version": 3
   },
   "file_extension": ".py",
   "mimetype": "text/x-python",
   "name": "python",
   "nbconvert_exporter": "python",
   "pygments_lexer": "ipython3",
   "version": "3.8.16"
  },
  "latex_envs": {
   "LaTeX_envs_menu_present": true,
   "autoclose": false,
   "autocomplete": true,
   "bibliofile": "biblio.bib",
   "cite_by": "apalike",
   "current_citInitial": 1,
   "eqLabelWithNumbers": true,
   "eqNumInitial": 1,
   "hotkeys": {
    "equation": "Ctrl-E",
    "itemize": "Ctrl-I"
   },
   "labels_anchors": false,
   "latex_user_defs": false,
   "report_style_numbering": false,
   "user_envs_cfg": false
  },
  "toc": {
   "base_numbering": 1,
   "nav_menu": {},
   "number_sections": true,
   "sideBar": true,
   "skip_h1_title": false,
   "title_cell": "Table of Contents",
   "title_sidebar": "Contents",
   "toc_cell": false,
   "toc_position": {},
   "toc_section_display": true,
   "toc_window_display": false
  },
  "widgets": {
   "application/vnd.jupyter.widget-state+json": {
    "09a5037d6b7f4267bef11d5c81943444": {
     "model_module": "@jupyter-widgets/base",
     "model_name": "LayoutModel",
     "state": {
      "_model_module": "@jupyter-widgets/base",
      "_model_module_version": "1.2.0",
      "_model_name": "LayoutModel",
      "_view_count": null,
      "_view_module": "@jupyter-widgets/base",
      "_view_module_version": "1.2.0",
      "_view_name": "LayoutView",
      "align_content": null,
      "align_items": null,
      "align_self": null,
      "border": null,
      "bottom": null,
      "display": null,
      "flex": null,
      "flex_flow": null,
      "grid_area": null,
      "grid_auto_columns": null,
      "grid_auto_flow": null,
      "grid_auto_rows": null,
      "grid_column": null,
      "grid_gap": null,
      "grid_row": null,
      "grid_template_areas": null,
      "grid_template_columns": null,
      "grid_template_rows": null,
      "height": null,
      "justify_content": null,
      "justify_items": null,
      "left": null,
      "margin": null,
      "max_height": null,
      "max_width": null,
      "min_height": null,
      "min_width": null,
      "object_fit": null,
      "object_position": null,
      "order": null,
      "overflow": null,
      "overflow_x": null,
      "overflow_y": null,
      "padding": null,
      "right": null,
      "top": null,
      "visibility": null,
      "width": null
     }
    },
    "15ad41875025485f9c2ba9f7c6b92498": {
     "model_module": "@jupyter-widgets/base",
     "model_name": "LayoutModel",
     "state": {
      "_model_module": "@jupyter-widgets/base",
      "_model_module_version": "1.2.0",
      "_model_name": "LayoutModel",
      "_view_count": null,
      "_view_module": "@jupyter-widgets/base",
      "_view_module_version": "1.2.0",
      "_view_name": "LayoutView",
      "align_content": null,
      "align_items": null,
      "align_self": null,
      "border": null,
      "bottom": null,
      "display": null,
      "flex": null,
      "flex_flow": null,
      "grid_area": null,
      "grid_auto_columns": null,
      "grid_auto_flow": null,
      "grid_auto_rows": null,
      "grid_column": null,
      "grid_gap": null,
      "grid_row": null,
      "grid_template_areas": null,
      "grid_template_columns": null,
      "grid_template_rows": null,
      "height": null,
      "justify_content": null,
      "justify_items": null,
      "left": null,
      "margin": null,
      "max_height": null,
      "max_width": null,
      "min_height": null,
      "min_width": null,
      "object_fit": null,
      "object_position": null,
      "order": null,
      "overflow": null,
      "overflow_x": null,
      "overflow_y": null,
      "padding": null,
      "right": null,
      "top": null,
      "visibility": null,
      "width": null
     }
    },
    "1e31e01a1e6f4adbb41346bac206b0e6": {
     "model_module": "@jupyter-widgets/controls",
     "model_name": "FloatProgressModel",
     "state": {
      "_dom_classes": [],
      "_model_module": "@jupyter-widgets/controls",
      "_model_module_version": "1.5.0",
      "_model_name": "FloatProgressModel",
      "_view_count": null,
      "_view_module": "@jupyter-widgets/controls",
      "_view_module_version": "1.5.0",
      "_view_name": "ProgressView",
      "bar_style": "info",
      "description": "",
      "description_tooltip": null,
      "layout": "IPY_MODEL_c7381148fdfe49fd949891c075a3c5f0",
      "max": 1,
      "min": 0,
      "orientation": "horizontal",
      "style": "IPY_MODEL_bb4d57e2e5e5416f87e2d015125d39fb",
      "value": 1
     }
    },
    "1fd08774574b44a1a2a36af1f643c942": {
     "model_module": "@jupyter-widgets/base",
     "model_name": "LayoutModel",
     "state": {
      "_model_module": "@jupyter-widgets/base",
      "_model_module_version": "1.2.0",
      "_model_name": "LayoutModel",
      "_view_count": null,
      "_view_module": "@jupyter-widgets/base",
      "_view_module_version": "1.2.0",
      "_view_name": "LayoutView",
      "align_content": null,
      "align_items": null,
      "align_self": null,
      "border": null,
      "bottom": null,
      "display": null,
      "flex": null,
      "flex_flow": null,
      "grid_area": null,
      "grid_auto_columns": null,
      "grid_auto_flow": null,
      "grid_auto_rows": null,
      "grid_column": null,
      "grid_gap": null,
      "grid_row": null,
      "grid_template_areas": null,
      "grid_template_columns": null,
      "grid_template_rows": null,
      "height": null,
      "justify_content": null,
      "justify_items": null,
      "left": null,
      "margin": null,
      "max_height": null,
      "max_width": null,
      "min_height": null,
      "min_width": null,
      "object_fit": null,
      "object_position": null,
      "order": null,
      "overflow": null,
      "overflow_x": null,
      "overflow_y": null,
      "padding": null,
      "right": null,
      "top": null,
      "visibility": null,
      "width": null
     }
    },
    "2b9b7d77220043d19155315091514533": {
     "model_module": "@jupyter-widgets/base",
     "model_name": "LayoutModel",
     "state": {
      "_model_module": "@jupyter-widgets/base",
      "_model_module_version": "1.2.0",
      "_model_name": "LayoutModel",
      "_view_count": null,
      "_view_module": "@jupyter-widgets/base",
      "_view_module_version": "1.2.0",
      "_view_name": "LayoutView",
      "align_content": null,
      "align_items": null,
      "align_self": null,
      "border": null,
      "bottom": null,
      "display": null,
      "flex": null,
      "flex_flow": null,
      "grid_area": null,
      "grid_auto_columns": null,
      "grid_auto_flow": null,
      "grid_auto_rows": null,
      "grid_column": null,
      "grid_gap": null,
      "grid_row": null,
      "grid_template_areas": null,
      "grid_template_columns": null,
      "grid_template_rows": null,
      "height": null,
      "justify_content": null,
      "justify_items": null,
      "left": null,
      "margin": null,
      "max_height": null,
      "max_width": null,
      "min_height": null,
      "min_width": null,
      "object_fit": null,
      "object_position": null,
      "order": null,
      "overflow": null,
      "overflow_x": null,
      "overflow_y": null,
      "padding": null,
      "right": null,
      "top": null,
      "visibility": null,
      "width": null
     }
    },
    "2cad34f44fc44a8399e81fed7bb0eccf": {
     "model_module": "@jupyter-widgets/controls",
     "model_name": "HTMLModel",
     "state": {
      "_dom_classes": [],
      "_model_module": "@jupyter-widgets/controls",
      "_model_module_version": "1.5.0",
      "_model_name": "HTMLModel",
      "_view_count": null,
      "_view_module": "@jupyter-widgets/controls",
      "_view_module_version": "1.5.0",
      "_view_name": "HTMLView",
      "description": "",
      "description_tooltip": null,
      "layout": "IPY_MODEL_49f2acb4d2ac49b2accd62aea479e700",
      "placeholder": "​",
      "style": "IPY_MODEL_40f498de8ffc4af38b118a090a36df08",
      "value": " 14233/38000 [00:00&lt;00:00, 142327.08 examples/s]"
     }
    },
    "30c80f7d3b384ed7a4ba525415a3ef5a": {
     "model_module": "@jupyter-widgets/controls",
     "model_name": "HBoxModel",
     "state": {
      "_dom_classes": [],
      "_model_module": "@jupyter-widgets/controls",
      "_model_module_version": "1.5.0",
      "_model_name": "HBoxModel",
      "_view_count": null,
      "_view_module": "@jupyter-widgets/controls",
      "_view_module_version": "1.5.0",
      "_view_name": "HBoxView",
      "box_style": "",
      "children": [
       "IPY_MODEL_793ff5f4662e474183a11a0e448521f3",
       "IPY_MODEL_8dddd6764bfe4a0c845407b69cd0be50"
      ],
      "layout": "IPY_MODEL_15ad41875025485f9c2ba9f7c6b92498"
     }
    },
    "31b9fd9168f14620b6f5955ea2af963b": {
     "model_module": "@jupyter-widgets/base",
     "model_name": "LayoutModel",
     "state": {
      "_model_module": "@jupyter-widgets/base",
      "_model_module_version": "1.2.0",
      "_model_name": "LayoutModel",
      "_view_count": null,
      "_view_module": "@jupyter-widgets/base",
      "_view_module_version": "1.2.0",
      "_view_name": "LayoutView",
      "align_content": null,
      "align_items": null,
      "align_self": null,
      "border": null,
      "bottom": null,
      "display": null,
      "flex": null,
      "flex_flow": null,
      "grid_area": null,
      "grid_auto_columns": null,
      "grid_auto_flow": null,
      "grid_auto_rows": null,
      "grid_column": null,
      "grid_gap": null,
      "grid_row": null,
      "grid_template_areas": null,
      "grid_template_columns": null,
      "grid_template_rows": null,
      "height": null,
      "justify_content": null,
      "justify_items": null,
      "left": null,
      "margin": null,
      "max_height": null,
      "max_width": null,
      "min_height": null,
      "min_width": null,
      "object_fit": null,
      "object_position": null,
      "order": null,
      "overflow": null,
      "overflow_x": null,
      "overflow_y": null,
      "padding": null,
      "right": null,
      "top": null,
      "visibility": null,
      "width": null
     }
    },
    "3b482c5205814ee5b6df6481c5616cf6": {
     "model_module": "@jupyter-widgets/controls",
     "model_name": "HBoxModel",
     "state": {
      "_dom_classes": [],
      "_model_module": "@jupyter-widgets/controls",
      "_model_module_version": "1.5.0",
      "_model_name": "HBoxModel",
      "_view_count": null,
      "_view_module": "@jupyter-widgets/controls",
      "_view_module_version": "1.5.0",
      "_view_name": "HBoxView",
      "box_style": "",
      "children": [
       "IPY_MODEL_b0c51846ce7d401bb67e9acf128ce52a",
       "IPY_MODEL_2cad34f44fc44a8399e81fed7bb0eccf"
      ],
      "layout": "IPY_MODEL_5cc571e53bfb45248a2cb850b627b809"
     }
    },
    "40f498de8ffc4af38b118a090a36df08": {
     "model_module": "@jupyter-widgets/controls",
     "model_name": "DescriptionStyleModel",
     "state": {
      "_model_module": "@jupyter-widgets/controls",
      "_model_module_version": "1.5.0",
      "_model_name": "DescriptionStyleModel",
      "_view_count": null,
      "_view_module": "@jupyter-widgets/base",
      "_view_module_version": "1.2.0",
      "_view_name": "StyleView",
      "description_width": ""
     }
    },
    "44224fa13a8048ab948f96e68e3e934c": {
     "model_module": "@jupyter-widgets/base",
     "model_name": "LayoutModel",
     "state": {
      "_model_module": "@jupyter-widgets/base",
      "_model_module_version": "1.2.0",
      "_model_name": "LayoutModel",
      "_view_count": null,
      "_view_module": "@jupyter-widgets/base",
      "_view_module_version": "1.2.0",
      "_view_name": "LayoutView",
      "align_content": null,
      "align_items": null,
      "align_self": null,
      "border": null,
      "bottom": null,
      "display": null,
      "flex": null,
      "flex_flow": null,
      "grid_area": null,
      "grid_auto_columns": null,
      "grid_auto_flow": null,
      "grid_auto_rows": null,
      "grid_column": null,
      "grid_gap": null,
      "grid_row": null,
      "grid_template_areas": null,
      "grid_template_columns": null,
      "grid_template_rows": null,
      "height": null,
      "justify_content": null,
      "justify_items": null,
      "left": null,
      "margin": null,
      "max_height": null,
      "max_width": null,
      "min_height": null,
      "min_width": null,
      "object_fit": null,
      "object_position": null,
      "order": null,
      "overflow": null,
      "overflow_x": null,
      "overflow_y": null,
      "padding": null,
      "right": null,
      "top": null,
      "visibility": null,
      "width": null
     }
    },
    "442c19d1fbad488ba88853c1ed2417fe": {
     "model_module": "@jupyter-widgets/base",
     "model_name": "LayoutModel",
     "state": {
      "_model_module": "@jupyter-widgets/base",
      "_model_module_version": "1.2.0",
      "_model_name": "LayoutModel",
      "_view_count": null,
      "_view_module": "@jupyter-widgets/base",
      "_view_module_version": "1.2.0",
      "_view_name": "LayoutView",
      "align_content": null,
      "align_items": null,
      "align_self": null,
      "border": null,
      "bottom": null,
      "display": null,
      "flex": null,
      "flex_flow": null,
      "grid_area": null,
      "grid_auto_columns": null,
      "grid_auto_flow": null,
      "grid_auto_rows": null,
      "grid_column": null,
      "grid_gap": null,
      "grid_row": null,
      "grid_template_areas": null,
      "grid_template_columns": null,
      "grid_template_rows": null,
      "height": null,
      "justify_content": null,
      "justify_items": null,
      "left": null,
      "margin": null,
      "max_height": null,
      "max_width": null,
      "min_height": null,
      "min_width": null,
      "object_fit": null,
      "object_position": null,
      "order": null,
      "overflow": null,
      "overflow_x": null,
      "overflow_y": null,
      "padding": null,
      "right": null,
      "top": null,
      "visibility": null,
      "width": null
     }
    },
    "445830624f4940a0a51cb737786e4d4b": {
     "model_module": "@jupyter-widgets/controls",
     "model_name": "HTMLModel",
     "state": {
      "_dom_classes": [],
      "_model_module": "@jupyter-widgets/controls",
      "_model_module_version": "1.5.0",
      "_model_name": "HTMLModel",
      "_view_count": null,
      "_view_module": "@jupyter-widgets/controls",
      "_view_module_version": "1.5.0",
      "_view_name": "HTMLView",
      "description": "",
      "description_tooltip": null,
      "layout": "IPY_MODEL_ab8317f9b67a4cf7a225cf5a6faba271",
      "placeholder": "​",
      "style": "IPY_MODEL_702a25b5f8c242d197cbfd286ed6ad60",
      "value": " 539237/560000 [00:02&lt;00:38, 539.26 examples/s]"
     }
    },
    "49f2acb4d2ac49b2accd62aea479e700": {
     "model_module": "@jupyter-widgets/base",
     "model_name": "LayoutModel",
     "state": {
      "_model_module": "@jupyter-widgets/base",
      "_model_module_version": "1.2.0",
      "_model_name": "LayoutModel",
      "_view_count": null,
      "_view_module": "@jupyter-widgets/base",
      "_view_module_version": "1.2.0",
      "_view_name": "LayoutView",
      "align_content": null,
      "align_items": null,
      "align_self": null,
      "border": null,
      "bottom": null,
      "display": null,
      "flex": null,
      "flex_flow": null,
      "grid_area": null,
      "grid_auto_columns": null,
      "grid_auto_flow": null,
      "grid_auto_rows": null,
      "grid_column": null,
      "grid_gap": null,
      "grid_row": null,
      "grid_template_areas": null,
      "grid_template_columns": null,
      "grid_template_rows": null,
      "height": null,
      "justify_content": null,
      "justify_items": null,
      "left": null,
      "margin": null,
      "max_height": null,
      "max_width": null,
      "min_height": null,
      "min_width": null,
      "object_fit": null,
      "object_position": null,
      "order": null,
      "overflow": null,
      "overflow_x": null,
      "overflow_y": null,
      "padding": null,
      "right": null,
      "top": null,
      "visibility": null,
      "width": null
     }
    },
    "4e4f337752c6432a898e5749a94d6375": {
     "model_module": "@jupyter-widgets/base",
     "model_name": "LayoutModel",
     "state": {
      "_model_module": "@jupyter-widgets/base",
      "_model_module_version": "1.2.0",
      "_model_name": "LayoutModel",
      "_view_count": null,
      "_view_module": "@jupyter-widgets/base",
      "_view_module_version": "1.2.0",
      "_view_name": "LayoutView",
      "align_content": null,
      "align_items": null,
      "align_self": null,
      "border": null,
      "bottom": null,
      "display": null,
      "flex": null,
      "flex_flow": null,
      "grid_area": null,
      "grid_auto_columns": null,
      "grid_auto_flow": null,
      "grid_auto_rows": null,
      "grid_column": null,
      "grid_gap": null,
      "grid_row": null,
      "grid_template_areas": null,
      "grid_template_columns": null,
      "grid_template_rows": null,
      "height": null,
      "justify_content": null,
      "justify_items": null,
      "left": null,
      "margin": null,
      "max_height": null,
      "max_width": null,
      "min_height": null,
      "min_width": null,
      "object_fit": null,
      "object_position": null,
      "order": null,
      "overflow": null,
      "overflow_x": null,
      "overflow_y": null,
      "padding": null,
      "right": null,
      "top": null,
      "visibility": null,
      "width": null
     }
    },
    "5cc571e53bfb45248a2cb850b627b809": {
     "model_module": "@jupyter-widgets/base",
     "model_name": "LayoutModel",
     "state": {
      "_model_module": "@jupyter-widgets/base",
      "_model_module_version": "1.2.0",
      "_model_name": "LayoutModel",
      "_view_count": null,
      "_view_module": "@jupyter-widgets/base",
      "_view_module_version": "1.2.0",
      "_view_name": "LayoutView",
      "align_content": null,
      "align_items": null,
      "align_self": null,
      "border": null,
      "bottom": null,
      "display": null,
      "flex": null,
      "flex_flow": null,
      "grid_area": null,
      "grid_auto_columns": null,
      "grid_auto_flow": null,
      "grid_auto_rows": null,
      "grid_column": null,
      "grid_gap": null,
      "grid_row": null,
      "grid_template_areas": null,
      "grid_template_columns": null,
      "grid_template_rows": null,
      "height": null,
      "justify_content": null,
      "justify_items": null,
      "left": null,
      "margin": null,
      "max_height": null,
      "max_width": null,
      "min_height": null,
      "min_width": null,
      "object_fit": null,
      "object_position": null,
      "order": null,
      "overflow": null,
      "overflow_x": null,
      "overflow_y": null,
      "padding": null,
      "right": null,
      "top": null,
      "visibility": null,
      "width": null
     }
    },
    "5d4f4ec65d8c44578e148b97dc9d0a76": {
     "model_module": "@jupyter-widgets/controls",
     "model_name": "HBoxModel",
     "state": {
      "_dom_classes": [],
      "_model_module": "@jupyter-widgets/controls",
      "_model_module_version": "1.5.0",
      "_model_name": "HBoxModel",
      "_view_count": null,
      "_view_module": "@jupyter-widgets/controls",
      "_view_module_version": "1.5.0",
      "_view_name": "HBoxView",
      "box_style": "",
      "children": [
       "IPY_MODEL_d8637c44c0244be2be06ed247a995295",
       "IPY_MODEL_e953e6006a344777a4f7685a9bc66678"
      ],
      "layout": "IPY_MODEL_c528c936fec741d48c0dc6eae2bca36a"
     }
    },
    "5d9ac0c4132d47baa8f6e6b00ffc8fce": {
     "model_module": "@jupyter-widgets/controls",
     "model_name": "FloatProgressModel",
     "state": {
      "_dom_classes": [],
      "_model_module": "@jupyter-widgets/controls",
      "_model_module_version": "1.5.0",
      "_model_name": "FloatProgressModel",
      "_view_count": null,
      "_view_module": "@jupyter-widgets/controls",
      "_view_module_version": "1.5.0",
      "_view_name": "ProgressView",
      "bar_style": "success",
      "description": "Dl Completed...: 100%",
      "description_tooltip": null,
      "layout": "IPY_MODEL_09a5037d6b7f4267bef11d5c81943444",
      "max": 1,
      "min": 0,
      "orientation": "horizontal",
      "style": "IPY_MODEL_a713205f143d4e37ac75380dd4ccf9dd",
      "value": 1
     }
    },
    "60bb67d6a3464d21bc89f38d0fc955f0": {
     "model_module": "@jupyter-widgets/base",
     "model_name": "LayoutModel",
     "state": {
      "_model_module": "@jupyter-widgets/base",
      "_model_module_version": "1.2.0",
      "_model_name": "LayoutModel",
      "_view_count": null,
      "_view_module": "@jupyter-widgets/base",
      "_view_module_version": "1.2.0",
      "_view_name": "LayoutView",
      "align_content": null,
      "align_items": null,
      "align_self": null,
      "border": null,
      "bottom": null,
      "display": null,
      "flex": null,
      "flex_flow": null,
      "grid_area": null,
      "grid_auto_columns": null,
      "grid_auto_flow": null,
      "grid_auto_rows": null,
      "grid_column": null,
      "grid_gap": null,
      "grid_row": null,
      "grid_template_areas": null,
      "grid_template_columns": null,
      "grid_template_rows": null,
      "height": null,
      "justify_content": null,
      "justify_items": null,
      "left": null,
      "margin": null,
      "max_height": null,
      "max_width": null,
      "min_height": null,
      "min_width": null,
      "object_fit": null,
      "object_position": null,
      "order": null,
      "overflow": null,
      "overflow_x": null,
      "overflow_y": null,
      "padding": null,
      "right": null,
      "top": null,
      "visibility": null,
      "width": null
     }
    },
    "6c19360285e542e9bdeb04f32204be0f": {
     "model_module": "@jupyter-widgets/controls",
     "model_name": "ProgressStyleModel",
     "state": {
      "_model_module": "@jupyter-widgets/controls",
      "_model_module_version": "1.5.0",
      "_model_name": "ProgressStyleModel",
      "_view_count": null,
      "_view_module": "@jupyter-widgets/base",
      "_view_module_version": "1.2.0",
      "_view_name": "StyleView",
      "bar_color": null,
      "description_width": "initial"
     }
    },
    "6ca709c36824411a919ef49f782c8d12": {
     "model_module": "@jupyter-widgets/base",
     "model_name": "LayoutModel",
     "state": {
      "_model_module": "@jupyter-widgets/base",
      "_model_module_version": "1.2.0",
      "_model_name": "LayoutModel",
      "_view_count": null,
      "_view_module": "@jupyter-widgets/base",
      "_view_module_version": "1.2.0",
      "_view_name": "LayoutView",
      "align_content": null,
      "align_items": null,
      "align_self": null,
      "border": null,
      "bottom": null,
      "display": null,
      "flex": null,
      "flex_flow": null,
      "grid_area": null,
      "grid_auto_columns": null,
      "grid_auto_flow": null,
      "grid_auto_rows": null,
      "grid_column": null,
      "grid_gap": null,
      "grid_row": null,
      "grid_template_areas": null,
      "grid_template_columns": null,
      "grid_template_rows": null,
      "height": null,
      "justify_content": null,
      "justify_items": null,
      "left": null,
      "margin": null,
      "max_height": null,
      "max_width": null,
      "min_height": null,
      "min_width": null,
      "object_fit": null,
      "object_position": null,
      "order": null,
      "overflow": null,
      "overflow_x": null,
      "overflow_y": null,
      "padding": null,
      "right": null,
      "top": null,
      "visibility": null,
      "width": null
     }
    },
    "6cf6d946856a435c840f6e19b84ed7d4": {
     "model_module": "@jupyter-widgets/controls",
     "model_name": "FloatProgressModel",
     "state": {
      "_dom_classes": [],
      "_model_module": "@jupyter-widgets/controls",
      "_model_module_version": "1.5.0",
      "_model_name": "FloatProgressModel",
      "_view_count": null,
      "_view_module": "@jupyter-widgets/controls",
      "_view_module_version": "1.5.0",
      "_view_name": "ProgressView",
      "bar_style": "danger",
      "description": " 96%",
      "description_tooltip": null,
      "layout": "IPY_MODEL_9e2c70ea2ca245998ae563f83b440d8a",
      "max": 560000,
      "min": 0,
      "orientation": "horizontal",
      "style": "IPY_MODEL_6c19360285e542e9bdeb04f32204be0f",
      "value": 539237
     }
    },
    "702a25b5f8c242d197cbfd286ed6ad60": {
     "model_module": "@jupyter-widgets/controls",
     "model_name": "DescriptionStyleModel",
     "state": {
      "_model_module": "@jupyter-widgets/controls",
      "_model_module_version": "1.5.0",
      "_model_name": "DescriptionStyleModel",
      "_view_count": null,
      "_view_module": "@jupyter-widgets/base",
      "_view_module_version": "1.2.0",
      "_view_name": "StyleView",
      "description_width": ""
     }
    },
    "726e01a161694a7386a3e83ee26b2650": {
     "model_module": "@jupyter-widgets/controls",
     "model_name": "HBoxModel",
     "state": {
      "_dom_classes": [],
      "_model_module": "@jupyter-widgets/controls",
      "_model_module_version": "1.5.0",
      "_model_name": "HBoxModel",
      "_view_count": null,
      "_view_module": "@jupyter-widgets/controls",
      "_view_module_version": "1.5.0",
      "_view_name": "HBoxView",
      "box_style": "",
      "children": [
       "IPY_MODEL_5d9ac0c4132d47baa8f6e6b00ffc8fce",
       "IPY_MODEL_e92a49567abc4cfe833b50ae6d7cef82"
      ],
      "layout": "IPY_MODEL_442c19d1fbad488ba88853c1ed2417fe"
     }
    },
    "793ff5f4662e474183a11a0e448521f3": {
     "model_module": "@jupyter-widgets/controls",
     "model_name": "FloatProgressModel",
     "state": {
      "_dom_classes": [],
      "_model_module": "@jupyter-widgets/controls",
      "_model_module_version": "1.5.0",
      "_model_name": "FloatProgressModel",
      "_view_count": null,
      "_view_module": "@jupyter-widgets/controls",
      "_view_module_version": "1.5.0",
      "_view_name": "ProgressView",
      "bar_style": "success",
      "description": "Dl Size...: 100%",
      "description_tooltip": null,
      "layout": "IPY_MODEL_1fd08774574b44a1a2a36af1f643c942",
      "max": 1,
      "min": 0,
      "orientation": "horizontal",
      "style": "IPY_MODEL_a93bb57243754ab3b8a9c3cb8a78211c",
      "value": 1
     }
    },
    "835e764670d94003a44493fc0be19633": {
     "model_module": "@jupyter-widgets/controls",
     "model_name": "ProgressStyleModel",
     "state": {
      "_model_module": "@jupyter-widgets/controls",
      "_model_module_version": "1.5.0",
      "_model_name": "ProgressStyleModel",
      "_view_count": null,
      "_view_module": "@jupyter-widgets/base",
      "_view_module_version": "1.2.0",
      "_view_name": "StyleView",
      "bar_color": null,
      "description_width": "initial"
     }
    },
    "8a2adb706b724582851f31b3f4fcc73b": {
     "model_module": "@jupyter-widgets/controls",
     "model_name": "ProgressStyleModel",
     "state": {
      "_model_module": "@jupyter-widgets/controls",
      "_model_module_version": "1.5.0",
      "_model_name": "ProgressStyleModel",
      "_view_count": null,
      "_view_module": "@jupyter-widgets/base",
      "_view_module_version": "1.2.0",
      "_view_name": "StyleView",
      "bar_color": null,
      "description_width": "initial"
     }
    },
    "8b78a2eb022945dd8c73c000b96fb6bc": {
     "model_module": "@jupyter-widgets/base",
     "model_name": "LayoutModel",
     "state": {
      "_model_module": "@jupyter-widgets/base",
      "_model_module_version": "1.2.0",
      "_model_name": "LayoutModel",
      "_view_count": null,
      "_view_module": "@jupyter-widgets/base",
      "_view_module_version": "1.2.0",
      "_view_name": "LayoutView",
      "align_content": null,
      "align_items": null,
      "align_self": null,
      "border": null,
      "bottom": null,
      "display": null,
      "flex": null,
      "flex_flow": null,
      "grid_area": null,
      "grid_auto_columns": null,
      "grid_auto_flow": null,
      "grid_auto_rows": null,
      "grid_column": null,
      "grid_gap": null,
      "grid_row": null,
      "grid_template_areas": null,
      "grid_template_columns": null,
      "grid_template_rows": null,
      "height": null,
      "justify_content": null,
      "justify_items": null,
      "left": null,
      "margin": null,
      "max_height": null,
      "max_width": null,
      "min_height": null,
      "min_width": null,
      "object_fit": null,
      "object_position": null,
      "order": null,
      "overflow": null,
      "overflow_x": null,
      "overflow_y": null,
      "padding": null,
      "right": null,
      "top": null,
      "visibility": null,
      "width": null
     }
    },
    "8c4eb2eeb4aa48e488e4b9abdfc9ad08": {
     "model_module": "@jupyter-widgets/controls",
     "model_name": "DescriptionStyleModel",
     "state": {
      "_model_module": "@jupyter-widgets/controls",
      "_model_module_version": "1.5.0",
      "_model_name": "DescriptionStyleModel",
      "_view_count": null,
      "_view_module": "@jupyter-widgets/base",
      "_view_module_version": "1.2.0",
      "_view_name": "StyleView",
      "description_width": ""
     }
    },
    "8dddd6764bfe4a0c845407b69cd0be50": {
     "model_module": "@jupyter-widgets/controls",
     "model_name": "HTMLModel",
     "state": {
      "_dom_classes": [],
      "_model_module": "@jupyter-widgets/controls",
      "_model_module_version": "1.5.0",
      "_model_name": "HTMLModel",
      "_view_count": null,
      "_view_module": "@jupyter-widgets/controls",
      "_view_module_version": "1.5.0",
      "_view_name": "HTMLView",
      "description": "",
      "description_tooltip": null,
      "layout": "IPY_MODEL_fe91b6a4f32247f2aefd924544268b33",
      "placeholder": "​",
      "style": "IPY_MODEL_e14f76d510a74a9fbdbed89f76786f93",
      "value": " 158/158 [00:11&lt;00:00, 14.08 MiB/s]"
     }
    },
    "9026e0f46b1c429a84b4ff00a4cd07d5": {
     "model_module": "@jupyter-widgets/controls",
     "model_name": "HBoxModel",
     "state": {
      "_dom_classes": [],
      "_model_module": "@jupyter-widgets/controls",
      "_model_module_version": "1.5.0",
      "_model_name": "HBoxModel",
      "_view_count": null,
      "_view_module": "@jupyter-widgets/controls",
      "_view_module_version": "1.5.0",
      "_view_name": "HBoxView",
      "box_style": "",
      "children": [
       "IPY_MODEL_1e31e01a1e6f4adbb41346bac206b0e6",
       "IPY_MODEL_dd12490030ad4bb381d76811f95bef5e"
      ],
      "layout": "IPY_MODEL_f2799ba998e145bf8dcf160595729e2e"
     }
    },
    "923a951e7cb3460a90db6b82e9046195": {
     "model_module": "@jupyter-widgets/controls",
     "model_name": "FloatProgressModel",
     "state": {
      "_dom_classes": [],
      "_model_module": "@jupyter-widgets/controls",
      "_model_module_version": "1.5.0",
      "_model_name": "FloatProgressModel",
      "_view_count": null,
      "_view_module": "@jupyter-widgets/controls",
      "_view_module_version": "1.5.0",
      "_view_name": "ProgressView",
      "bar_style": "success",
      "description": "Extraction completed...: 100%",
      "description_tooltip": null,
      "layout": "IPY_MODEL_60bb67d6a3464d21bc89f38d0fc955f0",
      "max": 1,
      "min": 0,
      "orientation": "horizontal",
      "style": "IPY_MODEL_8a2adb706b724582851f31b3f4fcc73b",
      "value": 1
     }
    },
    "9e2c70ea2ca245998ae563f83b440d8a": {
     "model_module": "@jupyter-widgets/base",
     "model_name": "LayoutModel",
     "state": {
      "_model_module": "@jupyter-widgets/base",
      "_model_module_version": "1.2.0",
      "_model_name": "LayoutModel",
      "_view_count": null,
      "_view_module": "@jupyter-widgets/base",
      "_view_module_version": "1.2.0",
      "_view_name": "LayoutView",
      "align_content": null,
      "align_items": null,
      "align_self": null,
      "border": null,
      "bottom": null,
      "display": null,
      "flex": null,
      "flex_flow": null,
      "grid_area": null,
      "grid_auto_columns": null,
      "grid_auto_flow": null,
      "grid_auto_rows": null,
      "grid_column": null,
      "grid_gap": null,
      "grid_row": null,
      "grid_template_areas": null,
      "grid_template_columns": null,
      "grid_template_rows": null,
      "height": null,
      "justify_content": null,
      "justify_items": null,
      "left": null,
      "margin": null,
      "max_height": null,
      "max_width": null,
      "min_height": null,
      "min_width": null,
      "object_fit": null,
      "object_position": null,
      "order": null,
      "overflow": null,
      "overflow_x": null,
      "overflow_y": null,
      "padding": null,
      "right": null,
      "top": null,
      "visibility": null,
      "width": null
     }
    },
    "a0fbaf8346a242c1a98b67c799dad0c3": {
     "model_module": "@jupyter-widgets/controls",
     "model_name": "ProgressStyleModel",
     "state": {
      "_model_module": "@jupyter-widgets/controls",
      "_model_module_version": "1.5.0",
      "_model_name": "ProgressStyleModel",
      "_view_count": null,
      "_view_module": "@jupyter-widgets/base",
      "_view_module_version": "1.2.0",
      "_view_name": "StyleView",
      "bar_color": null,
      "description_width": "initial"
     }
    },
    "a713205f143d4e37ac75380dd4ccf9dd": {
     "model_module": "@jupyter-widgets/controls",
     "model_name": "ProgressStyleModel",
     "state": {
      "_model_module": "@jupyter-widgets/controls",
      "_model_module_version": "1.5.0",
      "_model_name": "ProgressStyleModel",
      "_view_count": null,
      "_view_module": "@jupyter-widgets/base",
      "_view_module_version": "1.2.0",
      "_view_name": "StyleView",
      "bar_color": null,
      "description_width": "initial"
     }
    },
    "a93bb57243754ab3b8a9c3cb8a78211c": {
     "model_module": "@jupyter-widgets/controls",
     "model_name": "ProgressStyleModel",
     "state": {
      "_model_module": "@jupyter-widgets/controls",
      "_model_module_version": "1.5.0",
      "_model_name": "ProgressStyleModel",
      "_view_count": null,
      "_view_module": "@jupyter-widgets/base",
      "_view_module_version": "1.2.0",
      "_view_name": "StyleView",
      "bar_color": null,
      "description_width": "initial"
     }
    },
    "ab8317f9b67a4cf7a225cf5a6faba271": {
     "model_module": "@jupyter-widgets/base",
     "model_name": "LayoutModel",
     "state": {
      "_model_module": "@jupyter-widgets/base",
      "_model_module_version": "1.2.0",
      "_model_name": "LayoutModel",
      "_view_count": null,
      "_view_module": "@jupyter-widgets/base",
      "_view_module_version": "1.2.0",
      "_view_name": "LayoutView",
      "align_content": null,
      "align_items": null,
      "align_self": null,
      "border": null,
      "bottom": null,
      "display": null,
      "flex": null,
      "flex_flow": null,
      "grid_area": null,
      "grid_auto_columns": null,
      "grid_auto_flow": null,
      "grid_auto_rows": null,
      "grid_column": null,
      "grid_gap": null,
      "grid_row": null,
      "grid_template_areas": null,
      "grid_template_columns": null,
      "grid_template_rows": null,
      "height": null,
      "justify_content": null,
      "justify_items": null,
      "left": null,
      "margin": null,
      "max_height": null,
      "max_width": null,
      "min_height": null,
      "min_width": null,
      "object_fit": null,
      "object_position": null,
      "order": null,
      "overflow": null,
      "overflow_x": null,
      "overflow_y": null,
      "padding": null,
      "right": null,
      "top": null,
      "visibility": null,
      "width": null
     }
    },
    "b0096931873d4b55b6b1456413f30920": {
     "model_module": "@jupyter-widgets/controls",
     "model_name": "HBoxModel",
     "state": {
      "_dom_classes": [],
      "_model_module": "@jupyter-widgets/controls",
      "_model_module_version": "1.5.0",
      "_model_name": "HBoxModel",
      "_view_count": null,
      "_view_module": "@jupyter-widgets/controls",
      "_view_module_version": "1.5.0",
      "_view_name": "HBoxView",
      "box_style": "",
      "children": [
       "IPY_MODEL_6cf6d946856a435c840f6e19b84ed7d4",
       "IPY_MODEL_445830624f4940a0a51cb737786e4d4b"
      ],
      "layout": "IPY_MODEL_c1bc796e2fd749108fb946929f36eb39"
     }
    },
    "b0c51846ce7d401bb67e9acf128ce52a": {
     "model_module": "@jupyter-widgets/controls",
     "model_name": "FloatProgressModel",
     "state": {
      "_dom_classes": [],
      "_model_module": "@jupyter-widgets/controls",
      "_model_module_version": "1.5.0",
      "_model_name": "FloatProgressModel",
      "_view_count": null,
      "_view_module": "@jupyter-widgets/controls",
      "_view_module_version": "1.5.0",
      "_view_name": "ProgressView",
      "bar_style": "danger",
      "description": " 37%",
      "description_tooltip": null,
      "layout": "IPY_MODEL_fb16bdb84f0a4f1a9feeb53dac6de3d3",
      "max": 38000,
      "min": 0,
      "orientation": "horizontal",
      "style": "IPY_MODEL_a0fbaf8346a242c1a98b67c799dad0c3",
      "value": 14233
     }
    },
    "bb4d57e2e5e5416f87e2d015125d39fb": {
     "model_module": "@jupyter-widgets/controls",
     "model_name": "ProgressStyleModel",
     "state": {
      "_model_module": "@jupyter-widgets/controls",
      "_model_module_version": "1.5.0",
      "_model_name": "ProgressStyleModel",
      "_view_count": null,
      "_view_module": "@jupyter-widgets/base",
      "_view_module_version": "1.2.0",
      "_view_name": "StyleView",
      "bar_color": null,
      "description_width": "initial"
     }
    },
    "bd81e2f1a0e6468ba0587d29496e727b": {
     "model_module": "@jupyter-widgets/controls",
     "model_name": "DescriptionStyleModel",
     "state": {
      "_model_module": "@jupyter-widgets/controls",
      "_model_module_version": "1.5.0",
      "_model_name": "DescriptionStyleModel",
      "_view_count": null,
      "_view_module": "@jupyter-widgets/base",
      "_view_module_version": "1.2.0",
      "_view_name": "StyleView",
      "description_width": ""
     }
    },
    "c1bc796e2fd749108fb946929f36eb39": {
     "model_module": "@jupyter-widgets/base",
     "model_name": "LayoutModel",
     "state": {
      "_model_module": "@jupyter-widgets/base",
      "_model_module_version": "1.2.0",
      "_model_name": "LayoutModel",
      "_view_count": null,
      "_view_module": "@jupyter-widgets/base",
      "_view_module_version": "1.2.0",
      "_view_name": "LayoutView",
      "align_content": null,
      "align_items": null,
      "align_self": null,
      "border": null,
      "bottom": null,
      "display": null,
      "flex": null,
      "flex_flow": null,
      "grid_area": null,
      "grid_auto_columns": null,
      "grid_auto_flow": null,
      "grid_auto_rows": null,
      "grid_column": null,
      "grid_gap": null,
      "grid_row": null,
      "grid_template_areas": null,
      "grid_template_columns": null,
      "grid_template_rows": null,
      "height": null,
      "justify_content": null,
      "justify_items": null,
      "left": null,
      "margin": null,
      "max_height": null,
      "max_width": null,
      "min_height": null,
      "min_width": null,
      "object_fit": null,
      "object_position": null,
      "order": null,
      "overflow": null,
      "overflow_x": null,
      "overflow_y": null,
      "padding": null,
      "right": null,
      "top": null,
      "visibility": null,
      "width": null
     }
    },
    "c528c936fec741d48c0dc6eae2bca36a": {
     "model_module": "@jupyter-widgets/base",
     "model_name": "LayoutModel",
     "state": {
      "_model_module": "@jupyter-widgets/base",
      "_model_module_version": "1.2.0",
      "_model_name": "LayoutModel",
      "_view_count": null,
      "_view_module": "@jupyter-widgets/base",
      "_view_module_version": "1.2.0",
      "_view_name": "LayoutView",
      "align_content": null,
      "align_items": null,
      "align_self": null,
      "border": null,
      "bottom": null,
      "display": null,
      "flex": null,
      "flex_flow": null,
      "grid_area": null,
      "grid_auto_columns": null,
      "grid_auto_flow": null,
      "grid_auto_rows": null,
      "grid_column": null,
      "grid_gap": null,
      "grid_row": null,
      "grid_template_areas": null,
      "grid_template_columns": null,
      "grid_template_rows": null,
      "height": null,
      "justify_content": null,
      "justify_items": null,
      "left": null,
      "margin": null,
      "max_height": null,
      "max_width": null,
      "min_height": null,
      "min_width": null,
      "object_fit": null,
      "object_position": null,
      "order": null,
      "overflow": null,
      "overflow_x": null,
      "overflow_y": null,
      "padding": null,
      "right": null,
      "top": null,
      "visibility": null,
      "width": null
     }
    },
    "c7381148fdfe49fd949891c075a3c5f0": {
     "model_module": "@jupyter-widgets/base",
     "model_name": "LayoutModel",
     "state": {
      "_model_module": "@jupyter-widgets/base",
      "_model_module_version": "1.2.0",
      "_model_name": "LayoutModel",
      "_view_count": null,
      "_view_module": "@jupyter-widgets/base",
      "_view_module_version": "1.2.0",
      "_view_name": "LayoutView",
      "align_content": null,
      "align_items": null,
      "align_self": null,
      "border": null,
      "bottom": null,
      "display": null,
      "flex": null,
      "flex_flow": null,
      "grid_area": null,
      "grid_auto_columns": null,
      "grid_auto_flow": null,
      "grid_auto_rows": null,
      "grid_column": null,
      "grid_gap": null,
      "grid_row": null,
      "grid_template_areas": null,
      "grid_template_columns": null,
      "grid_template_rows": null,
      "height": null,
      "justify_content": null,
      "justify_items": null,
      "left": null,
      "margin": null,
      "max_height": null,
      "max_width": null,
      "min_height": null,
      "min_width": null,
      "object_fit": null,
      "object_position": null,
      "order": null,
      "overflow": null,
      "overflow_x": null,
      "overflow_y": null,
      "padding": null,
      "right": null,
      "top": null,
      "visibility": null,
      "width": null
     }
    },
    "cab8fd2390eb4481824b2a29bfca8229": {
     "model_module": "@jupyter-widgets/controls",
     "model_name": "DescriptionStyleModel",
     "state": {
      "_model_module": "@jupyter-widgets/controls",
      "_model_module_version": "1.5.0",
      "_model_name": "DescriptionStyleModel",
      "_view_count": null,
      "_view_module": "@jupyter-widgets/base",
      "_view_module_version": "1.2.0",
      "_view_name": "StyleView",
      "description_width": ""
     }
    },
    "d0d66a43fdf14a51bcddd90fe5bf651c": {
     "model_module": "@jupyter-widgets/controls",
     "model_name": "DescriptionStyleModel",
     "state": {
      "_model_module": "@jupyter-widgets/controls",
      "_model_module_version": "1.5.0",
      "_model_name": "DescriptionStyleModel",
      "_view_count": null,
      "_view_module": "@jupyter-widgets/base",
      "_view_module_version": "1.2.0",
      "_view_name": "StyleView",
      "description_width": ""
     }
    },
    "d8637c44c0244be2be06ed247a995295": {
     "model_module": "@jupyter-widgets/controls",
     "model_name": "FloatProgressModel",
     "state": {
      "_dom_classes": [],
      "_model_module": "@jupyter-widgets/controls",
      "_model_module_version": "1.5.0",
      "_model_name": "FloatProgressModel",
      "_view_count": null,
      "_view_module": "@jupyter-widgets/controls",
      "_view_module_version": "1.5.0",
      "_view_name": "ProgressView",
      "bar_style": "info",
      "description": "",
      "description_tooltip": null,
      "layout": "IPY_MODEL_2b9b7d77220043d19155315091514533",
      "max": 1,
      "min": 0,
      "orientation": "horizontal",
      "style": "IPY_MODEL_835e764670d94003a44493fc0be19633",
      "value": 1
     }
    },
    "dd12490030ad4bb381d76811f95bef5e": {
     "model_module": "@jupyter-widgets/controls",
     "model_name": "HTMLModel",
     "state": {
      "_dom_classes": [],
      "_model_module": "@jupyter-widgets/controls",
      "_model_module_version": "1.5.0",
      "_model_name": "HTMLModel",
      "_view_count": null,
      "_view_module": "@jupyter-widgets/controls",
      "_view_module_version": "1.5.0",
      "_view_name": "HTMLView",
      "description": "",
      "description_tooltip": null,
      "layout": "IPY_MODEL_44224fa13a8048ab948f96e68e3e934c",
      "placeholder": "​",
      "style": "IPY_MODEL_cab8fd2390eb4481824b2a29bfca8229",
      "value": " 38000/0 [00:05&lt;00:00, 7675.71 examples/s]"
     }
    },
    "df3a76b70f3f4aa19cf63c9f628b9f53": {
     "model_module": "@jupyter-widgets/controls",
     "model_name": "HBoxModel",
     "state": {
      "_dom_classes": [],
      "_model_module": "@jupyter-widgets/controls",
      "_model_module_version": "1.5.0",
      "_model_name": "HBoxModel",
      "_view_count": null,
      "_view_module": "@jupyter-widgets/controls",
      "_view_module_version": "1.5.0",
      "_view_name": "HBoxView",
      "box_style": "",
      "children": [
       "IPY_MODEL_923a951e7cb3460a90db6b82e9046195",
       "IPY_MODEL_ec3fe2b406254fb4a74ae16d4e77c30c"
      ],
      "layout": "IPY_MODEL_31b9fd9168f14620b6f5955ea2af963b"
     }
    },
    "e14f76d510a74a9fbdbed89f76786f93": {
     "model_module": "@jupyter-widgets/controls",
     "model_name": "DescriptionStyleModel",
     "state": {
      "_model_module": "@jupyter-widgets/controls",
      "_model_module_version": "1.5.0",
      "_model_name": "DescriptionStyleModel",
      "_view_count": null,
      "_view_module": "@jupyter-widgets/base",
      "_view_module_version": "1.2.0",
      "_view_name": "StyleView",
      "description_width": ""
     }
    },
    "e92a49567abc4cfe833b50ae6d7cef82": {
     "model_module": "@jupyter-widgets/controls",
     "model_name": "HTMLModel",
     "state": {
      "_dom_classes": [],
      "_model_module": "@jupyter-widgets/controls",
      "_model_module_version": "1.5.0",
      "_model_name": "HTMLModel",
      "_view_count": null,
      "_view_module": "@jupyter-widgets/controls",
      "_view_module_version": "1.5.0",
      "_view_name": "HTMLView",
      "description": "",
      "description_tooltip": null,
      "layout": "IPY_MODEL_6ca709c36824411a919ef49f782c8d12",
      "placeholder": "​",
      "style": "IPY_MODEL_d0d66a43fdf14a51bcddd90fe5bf651c",
      "value": " 1/1 [00:11&lt;00:00, 11.25s/ url]"
     }
    },
    "e953e6006a344777a4f7685a9bc66678": {
     "model_module": "@jupyter-widgets/controls",
     "model_name": "HTMLModel",
     "state": {
      "_dom_classes": [],
      "_model_module": "@jupyter-widgets/controls",
      "_model_module_version": "1.5.0",
      "_model_name": "HTMLModel",
      "_view_count": null,
      "_view_module": "@jupyter-widgets/controls",
      "_view_module_version": "1.5.0",
      "_view_name": "HTMLView",
      "description": "",
      "description_tooltip": null,
      "layout": "IPY_MODEL_4e4f337752c6432a898e5749a94d6375",
      "placeholder": "​",
      "style": "IPY_MODEL_bd81e2f1a0e6468ba0587d29496e727b",
      "value": " 560000/0 [01:15&lt;00:00, 7491.08 examples/s]"
     }
    },
    "ec3fe2b406254fb4a74ae16d4e77c30c": {
     "model_module": "@jupyter-widgets/controls",
     "model_name": "HTMLModel",
     "state": {
      "_dom_classes": [],
      "_model_module": "@jupyter-widgets/controls",
      "_model_module_version": "1.5.0",
      "_model_name": "HTMLModel",
      "_view_count": null,
      "_view_module": "@jupyter-widgets/controls",
      "_view_module_version": "1.5.0",
      "_view_name": "HTMLView",
      "description": "",
      "description_tooltip": null,
      "layout": "IPY_MODEL_8b78a2eb022945dd8c73c000b96fb6bc",
      "placeholder": "​",
      "style": "IPY_MODEL_8c4eb2eeb4aa48e488e4b9abdfc9ad08",
      "value": " 1/1 [00:11&lt;00:00, 11.19s/ file]"
     }
    },
    "f2799ba998e145bf8dcf160595729e2e": {
     "model_module": "@jupyter-widgets/base",
     "model_name": "LayoutModel",
     "state": {
      "_model_module": "@jupyter-widgets/base",
      "_model_module_version": "1.2.0",
      "_model_name": "LayoutModel",
      "_view_count": null,
      "_view_module": "@jupyter-widgets/base",
      "_view_module_version": "1.2.0",
      "_view_name": "LayoutView",
      "align_content": null,
      "align_items": null,
      "align_self": null,
      "border": null,
      "bottom": null,
      "display": null,
      "flex": null,
      "flex_flow": null,
      "grid_area": null,
      "grid_auto_columns": null,
      "grid_auto_flow": null,
      "grid_auto_rows": null,
      "grid_column": null,
      "grid_gap": null,
      "grid_row": null,
      "grid_template_areas": null,
      "grid_template_columns": null,
      "grid_template_rows": null,
      "height": null,
      "justify_content": null,
      "justify_items": null,
      "left": null,
      "margin": null,
      "max_height": null,
      "max_width": null,
      "min_height": null,
      "min_width": null,
      "object_fit": null,
      "object_position": null,
      "order": null,
      "overflow": null,
      "overflow_x": null,
      "overflow_y": null,
      "padding": null,
      "right": null,
      "top": null,
      "visibility": null,
      "width": null
     }
    },
    "fb16bdb84f0a4f1a9feeb53dac6de3d3": {
     "model_module": "@jupyter-widgets/base",
     "model_name": "LayoutModel",
     "state": {
      "_model_module": "@jupyter-widgets/base",
      "_model_module_version": "1.2.0",
      "_model_name": "LayoutModel",
      "_view_count": null,
      "_view_module": "@jupyter-widgets/base",
      "_view_module_version": "1.2.0",
      "_view_name": "LayoutView",
      "align_content": null,
      "align_items": null,
      "align_self": null,
      "border": null,
      "bottom": null,
      "display": null,
      "flex": null,
      "flex_flow": null,
      "grid_area": null,
      "grid_auto_columns": null,
      "grid_auto_flow": null,
      "grid_auto_rows": null,
      "grid_column": null,
      "grid_gap": null,
      "grid_row": null,
      "grid_template_areas": null,
      "grid_template_columns": null,
      "grid_template_rows": null,
      "height": null,
      "justify_content": null,
      "justify_items": null,
      "left": null,
      "margin": null,
      "max_height": null,
      "max_width": null,
      "min_height": null,
      "min_width": null,
      "object_fit": null,
      "object_position": null,
      "order": null,
      "overflow": null,
      "overflow_x": null,
      "overflow_y": null,
      "padding": null,
      "right": null,
      "top": null,
      "visibility": null,
      "width": null
     }
    },
    "fe91b6a4f32247f2aefd924544268b33": {
     "model_module": "@jupyter-widgets/base",
     "model_name": "LayoutModel",
     "state": {
      "_model_module": "@jupyter-widgets/base",
      "_model_module_version": "1.2.0",
      "_model_name": "LayoutModel",
      "_view_count": null,
      "_view_module": "@jupyter-widgets/base",
      "_view_module_version": "1.2.0",
      "_view_name": "LayoutView",
      "align_content": null,
      "align_items": null,
      "align_self": null,
      "border": null,
      "bottom": null,
      "display": null,
      "flex": null,
      "flex_flow": null,
      "grid_area": null,
      "grid_auto_columns": null,
      "grid_auto_flow": null,
      "grid_auto_rows": null,
      "grid_column": null,
      "grid_gap": null,
      "grid_row": null,
      "grid_template_areas": null,
      "grid_template_columns": null,
      "grid_template_rows": null,
      "height": null,
      "justify_content": null,
      "justify_items": null,
      "left": null,
      "margin": null,
      "max_height": null,
      "max_width": null,
      "min_height": null,
      "min_width": null,
      "object_fit": null,
      "object_position": null,
      "order": null,
      "overflow": null,
      "overflow_x": null,
      "overflow_y": null,
      "padding": null,
      "right": null,
      "top": null,
      "visibility": null,
      "width": null
     }
    }
   }
  }
 },
 "nbformat": 4,
 "nbformat_minor": 1
}
