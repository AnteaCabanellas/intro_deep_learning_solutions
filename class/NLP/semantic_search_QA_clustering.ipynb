{
 "cells": [
  {
   "cell_type": "markdown",
   "id": "540c8652",
   "metadata": {},
   "source": [
    "It is highly recommended to use a powerful **GPU**, you can use it for free uploading this notebook to [Google Colab](https://colab.research.google.com/notebooks/intro.ipynb).\n",
    "<table align=\"center\">\n",
    " <td align=\"center\"><a target=\"_blank\" href=\"https://colab.research.google.com/github/ezponda/intro_deep_learning_solutions/blob/main/class/NLP/semantic_search_QA_clustering.ipynb\">\n",
    "        <img src=\"https://colab.research.google.com/img/colab_favicon_256px.png\"  width=\"50\" height=\"50\" style=\"padding-bottom:5px;\" />Run in Google Colab</a></td>\n",
    "  <td align=\"center\"><a target=\"_blank\" href=\"https://github.com/ezponda/intro_deep_learning_solutions/blob/main/class/NLP/semantic_search_QA_clustering.ipynb\">\n",
    "        <img src=\"https://github.githubassets.com/images/modules/logos_page/GitHub-Mark.png\"  width=\"50\" height=\"50\" style=\"padding-bottom:5px;\" />View Source on GitHub</a></td>\n",
    "</table>"
   ]
  },
  {
   "cell_type": "markdown",
   "id": "7e220629",
   "metadata": {},
   "source": [
    "# Semantic search & QA\n",
    "\n",
    "In this notebook, we'll introduce semantic search and question-answering using [`sentence-transformers`](https://www.sbert.net/), a Python library for state-of-the-art sentence, text and image embeddings. These embeddings are useful for semantic similarity tasks, such as information retrieval and question-answering systems."
   ]
  },
  {
   "cell_type": "code",
   "execution_count": 1,
   "id": "c85446b7",
   "metadata": {},
   "outputs": [],
   "source": [
    "# Install the sentence-transformers library\n",
    "#!pip install -U sentence-transformers"
   ]
  },
  {
   "cell_type": "code",
   "execution_count": 2,
   "id": "8fef53ec",
   "metadata": {},
   "outputs": [],
   "source": [
    "import json\n",
    "from sentence_transformers import SentenceTransformer, CrossEncoder, util\n",
    "from sklearn.metrics.pairwise import cosine_similarity\n",
    "import numpy as np\n",
    "import pandas as pd\n",
    "import time\n",
    "import gzip\n",
    "import os"
   ]
  },
  {
   "cell_type": "markdown",
   "id": "9ee4a0a8",
   "metadata": {},
   "source": [
    "We'll use a pre-trained Sentence Transformer model to generate sentence embeddings. Many pre-trained models are available [here](https://www.sbert.net/docs/pretrained_models.html)"
   ]
  },
  {
   "cell_type": "code",
   "execution_count": 3,
   "id": "56081ef1",
   "metadata": {},
   "outputs": [],
   "source": [
    "model_name = 'all-MiniLM-L6-v2'\n",
    "model = SentenceTransformer(model_name)"
   ]
  },
  {
   "cell_type": "markdown",
   "id": "f7ab530d",
   "metadata": {},
   "source": [
    "For our semantic search and question-answering task, we need a list of documents or paragraphs to search through for relevant information."
   ]
  },
  {
   "cell_type": "code",
   "execution_count": 4,
   "id": "b473c53a",
   "metadata": {},
   "outputs": [],
   "source": [
    "# Sample paragraphs\n",
    "paragraphs = [\n",
    "    \"The Eiffel Tower is a wrought-iron lattice tower on the Champ de Mars in Paris, France.\",\n",
    "    \"The Statue of Liberty is a colossal neoclassical sculpture on Liberty Island in New York Harbor within New York City, in the United States.\",\n",
    "    \"The Great Wall of China is a series of fortifications made of stone, brick, tamped earth, wood, and other materials, generally built along an east-to-west line across the historical northern borders of China.\",\n",
    "    \"The Colosseum, also known as the Flavian Amphitheatre, is an oval amphitheatre in the centre of the city of Rome, Italy.\",\n",
    "    \"The Taj Mahal is an ivory-white marble mausoleum on the southern bank of the river Yamuna in the Indian city of Agra.\"\n",
    "]\n",
    "\n",
    "paragraphs = np.array(paragraphs)"
   ]
  },
  {
   "cell_type": "code",
   "execution_count": 5,
   "id": "2ad2ca34",
   "metadata": {},
   "outputs": [
    {
     "name": "stdout",
     "output_type": "stream",
     "text": [
      "(5, 384)\n"
     ]
    }
   ],
   "source": [
    "# Generate embeddings for paragraphs\n",
    "corpus_embeddings = model.encode(paragraphs)\n",
    "print(corpus_embeddings.shape)"
   ]
  },
  {
   "cell_type": "markdown",
   "id": "87a5756f",
   "metadata": {},
   "source": [
    "Now, let's define a function to perform semantic search, given a query and a list of paragraph embeddings."
   ]
  },
  {
   "cell_type": "code",
   "execution_count": 6,
   "id": "ad6a9592",
   "metadata": {},
   "outputs": [
    {
     "name": "stdout",
     "output_type": "stream",
     "text": [
      "Input query: Where is the Colosseum\n",
      "\n",
      "0.801\tThe Colosseum, also known as the Flavian Amphitheatre, is an oval amphitheatre in the centre of the city of Rome, Italy.\n",
      "0.226\tThe Taj Mahal is an ivory-white marble mausoleum on the southern bank of the river Yamuna in the Indian city of Agra.\n"
     ]
    }
   ],
   "source": [
    "def semantic_search(query, model, corpus_embeddings, paragraphs, top_k=2):\n",
    "    query_embedding = model.encode([query])[0]\n",
    "    similarities = cosine_similarity([query_embedding], corpus_embeddings)[0]\n",
    "    indexes = np.argpartition(similarities, -top_k)[-top_k:]\n",
    "    indexes = indexes[np.argsort(-similarities[indexes])]\n",
    "    print(f\"Input query: {query}\")\n",
    "    print()\n",
    "    for text, sim in zip(list(paragraphs[indexes]), similarities[indexes].tolist()):\n",
    "        print(f\"{sim:.3f}\\t{text}\")\n",
    "              \n",
    "\n",
    "semantic_search('Where is the Colosseum', model, corpus_embeddings, paragraphs, top_k=2)"
   ]
  },
  {
   "cell_type": "markdown",
   "id": "b6df5645",
   "metadata": {},
   "source": [
    "## Multilingual models\n"
   ]
  },
  {
   "cell_type": "code",
   "execution_count": 7,
   "id": "93b0cded",
   "metadata": {},
   "outputs": [
    {
     "name": "stdout",
     "output_type": "stream",
     "text": [
      "Input query: ¿Dónde está el Coliseo?\n",
      "\n",
      "0.086\tThe Statue of Liberty is a colossal neoclassical sculpture on Liberty Island in New York Harbor within New York City, in the United States.\n",
      "0.067\tThe Taj Mahal is an ivory-white marble mausoleum on the southern bank of the river Yamuna in the Indian city of Agra.\n"
     ]
    }
   ],
   "source": [
    "# lets try in other languages\n",
    "semantic_search('¿Dónde está el Coliseo?', model, corpus_embeddings, paragraphs, top_k=2)"
   ]
  },
  {
   "cell_type": "markdown",
   "id": "5d55f723",
   "metadata": {},
   "source": [
    "We have multilinguals models available [here](https://www.sbert.net/docs/pretrained_models.html#multi-lingual-models)"
   ]
  },
  {
   "cell_type": "code",
   "execution_count": 8,
   "id": "5ea38223",
   "metadata": {},
   "outputs": [],
   "source": [
    "# we can use multilingual models \n",
    "model_name = 'paraphrase-multilingual-MiniLM-L12-v2'\n",
    "multi_model = SentenceTransformer(model_name)"
   ]
  },
  {
   "cell_type": "code",
   "execution_count": 9,
   "id": "6d7e03d2",
   "metadata": {},
   "outputs": [
    {
     "name": "stdout",
     "output_type": "stream",
     "text": [
      "(5, 384)\n"
     ]
    }
   ],
   "source": [
    "multi_corpus_embeddings = multi_model.encode(paragraphs)\n",
    "print(multi_corpus_embeddings.shape)"
   ]
  },
  {
   "cell_type": "code",
   "execution_count": 10,
   "id": "a6d89f20",
   "metadata": {},
   "outputs": [
    {
     "name": "stdout",
     "output_type": "stream",
     "text": [
      "Input query: ¿Dónde está el Coliseo?\n",
      "\n",
      "0.439\tThe Colosseum, also known as the Flavian Amphitheatre, is an oval amphitheatre in the centre of the city of Rome, Italy.\n",
      "0.299\tThe Statue of Liberty is a colossal neoclassical sculpture on Liberty Island in New York Harbor within New York City, in the United States.\n"
     ]
    }
   ],
   "source": [
    "semantic_search('¿Dónde está el Coliseo?', multi_model, multi_corpus_embeddings, paragraphs, top_k=2)"
   ]
  },
  {
   "cell_type": "markdown",
   "id": "08858a4b",
   "metadata": {},
   "source": [
    "## Wikipedia semantic search\n",
    "\n",
    "As dataset, we use Simple English Wikipedia. Compared to the full English wikipedia, it has only\n",
    "about 170k articles. We split these articles into paragraphs"
   ]
  },
  {
   "cell_type": "code",
   "execution_count": 11,
   "id": "15aef3ce",
   "metadata": {},
   "outputs": [
    {
     "data": {
      "application/json": {
       "ascii": false,
       "bar_format": null,
       "colour": null,
       "elapsed": 0.00451207160949707,
       "initial": 0,
       "n": 0,
       "ncols": null,
       "nrows": 12,
       "postfix": null,
       "prefix": "",
       "rate": null,
       "total": 50223724,
       "unit": "B",
       "unit_divisor": 1000,
       "unit_scale": true
      },
      "application/vnd.jupyter.widget-view+json": {
       "model_id": "efb602bc5d24408bb2d3f24d3a4fb95f",
       "version_major": 2,
       "version_minor": 0
      },
      "text/plain": [
       "  0%|          | 0.00/50.2M [00:00<?, ?B/s]"
      ]
     },
     "metadata": {},
     "output_type": "display_data"
    },
    {
     "name": "stdout",
     "output_type": "stream",
     "text": [
      "Passages: 509663\n",
      "Ted Cassidy:  Ted Cassidy (July 31, 1932 - January 16, 1979) was an American actor. He was best known for his roles as Lurch and Thing on \"The Addams Family\".\n",
      "Aileen Wuornos:  Aileen Carol Wuornos Pralle (born Aileen Carol Pittman; February 29, 1956 – October 9, 2002) was an American serial killer. She was born in Rochester, Michigan. She confessed to killing six men in Florida and was executed in Florida State Prison by lethal injection for the murders. Wuornos said that the men she killed had raped her or tried to rape her while she was working as a prostitute.\n"
     ]
    }
   ],
   "source": [
    "wikipedia_filepath = 'data/simplewiki-2020-11-01.jsonl.gz'\n",
    "\n",
    "if not os.path.exists(wikipedia_filepath):\n",
    "    util.http_get('http://sbert.net/datasets/simplewiki-2020-11-01.jsonl.gz', wikipedia_filepath)\n",
    "\n",
    "passages = []\n",
    "with gzip.open(wikipedia_filepath, 'rt', encoding='utf8') as fIn:\n",
    "    for line in fIn:\n",
    "        data = json.loads(line.strip())\n",
    "        for paragraph in data['paragraphs']:\n",
    "            # We encode the passages as [title, text]\n",
    "            passages.append(data['title']+':  '+ paragraph)\n",
    "\n",
    "# If you like, you can also limit the number of passages you want to use\n",
    "print(\"Passages:\", len(passages))\n",
    "print(passages[0])\n",
    "print(passages[1])"
   ]
  },
  {
   "cell_type": "code",
   "execution_count": 12,
   "id": "fa111507",
   "metadata": {},
   "outputs": [
    {
     "data": {
      "text/plain": [
       "(5000,)"
      ]
     },
     "execution_count": 12,
     "metadata": {},
     "output_type": "execute_result"
    }
   ],
   "source": [
    "reduced_passages = np.array(passages[:5000])\n",
    "reduced_passages.shape"
   ]
  },
  {
   "cell_type": "code",
   "execution_count": 13,
   "id": "5a4cc331",
   "metadata": {},
   "outputs": [
    {
     "data": {
      "application/json": {
       "ascii": false,
       "bar_format": null,
       "colour": null,
       "elapsed": 0.0019059181213378906,
       "initial": 0,
       "n": 0,
       "ncols": null,
       "nrows": 12,
       "postfix": null,
       "prefix": "Batches",
       "rate": null,
       "total": 157,
       "unit": "it",
       "unit_divisor": 1000,
       "unit_scale": false
      },
      "application/vnd.jupyter.widget-view+json": {
       "model_id": "3ee7a9eb1db54ac091ee0b0adab47b28",
       "version_major": 2,
       "version_minor": 0
      },
      "text/plain": [
       "Batches:   0%|          | 0/157 [00:00<?, ?it/s]"
      ]
     },
     "metadata": {},
     "output_type": "display_data"
    }
   ],
   "source": [
    "corpus_embeddings = model.encode(reduced_passages, show_progress_bar=True)"
   ]
  },
  {
   "cell_type": "code",
   "execution_count": 14,
   "id": "c7d1260d",
   "metadata": {},
   "outputs": [
    {
     "name": "stdout",
     "output_type": "stream",
     "text": [
      "Input query: Best american actor\n",
      "\n",
      "0.539\tAaron Kwok:  Aaron won the Best Actor Award again at the forty-third Golden Horse Awards on 24 November 2006 for his role in the movie \"After This Our Exile\". He became the second actor in the history of the Golden Horse Awards to win the Best Actor Award year after year. Jackie Chan first achieved this back in the 1990s.\n",
      "0.425\tJames L. Brooks:  He is best known for creating American television programs such as \"The Mary Tyler Moore Show\", \"The Simpsons\", \"Rhoda\" and \"Taxi\". His best-known movie is \"Terms of Endearment\", for which he received three Academy Awards in 1984.\n"
     ]
    }
   ],
   "source": [
    "semantic_search('Best american actor', model, corpus_embeddings, reduced_passages, top_k=2)"
   ]
  },
  {
   "cell_type": "code",
   "execution_count": 15,
   "id": "fbad4f4a",
   "metadata": {},
   "outputs": [
    {
     "name": "stdout",
     "output_type": "stream",
     "text": [
      "Input query: Number countries Europe\n",
      "\n",
      "0.502\tEuropean Union member state:  A European Union member state is any one of the twenty-seven countries that have joined the European Union (EU) since it was found in 1958 as the European Economic Community (EEC). From an original membership of six states, there have been five successive enlargements. The largest happened on 1 May 2004, when ten member states joined.\n",
      "0.465\tEuropean Space Agency:  The member countries of ESA are Austria, Belgium, Czech Republic, Denmark, Finland, France, Germany, Greece, Ireland, Italy, Luxembourg, the Netherlands, Norway, Portugal, Spain, Sweden, Switzerland and the United Kingdom.\n"
     ]
    }
   ],
   "source": [
    "semantic_search('Number countries Europe', model, corpus_embeddings, reduced_passages, top_k=2)"
   ]
  },
  {
   "cell_type": "markdown",
   "id": "327dce75",
   "metadata": {},
   "source": [
    "### Question1: Load a different pre-trained Sentence Transformer model and compare its performance to the last model on the same set of paragraphs and queries. Which model performs better?"
   ]
  },
  {
   "cell_type": "code",
   "execution_count": 17,
   "id": "043b5d1f",
   "metadata": {},
   "outputs": [
    {
     "data": {
      "application/json": {
       "ascii": false,
       "bar_format": null,
       "colour": null,
       "elapsed": 0.01055002212524414,
       "initial": 0,
       "n": 0,
       "ncols": null,
       "nrows": 12,
       "postfix": null,
       "prefix": "Downloading (…)a8e1d/.gitattributes",
       "rate": null,
       "total": 1175,
       "unit": "B",
       "unit_divisor": 1000,
       "unit_scale": true
      },
      "application/vnd.jupyter.widget-view+json": {
       "model_id": "e966312f584c4a7daeea978194ad73db",
       "version_major": 2,
       "version_minor": 0
      },
      "text/plain": [
       "Downloading (…)a8e1d/.gitattributes:   0%|          | 0.00/1.18k [00:00<?, ?B/s]"
      ]
     },
     "metadata": {},
     "output_type": "display_data"
    },
    {
     "data": {
      "application/json": {
       "ascii": false,
       "bar_format": null,
       "colour": null,
       "elapsed": 0.005995035171508789,
       "initial": 0,
       "n": 0,
       "ncols": null,
       "nrows": 12,
       "postfix": null,
       "prefix": "Downloading (…)_Pooling/config.json",
       "rate": null,
       "total": 190,
       "unit": "B",
       "unit_divisor": 1000,
       "unit_scale": true
      },
      "application/vnd.jupyter.widget-view+json": {
       "model_id": "7af533385fb14bc68ecdc3e786decd83",
       "version_major": 2,
       "version_minor": 0
      },
      "text/plain": [
       "Downloading (…)_Pooling/config.json:   0%|          | 0.00/190 [00:00<?, ?B/s]"
      ]
     },
     "metadata": {},
     "output_type": "display_data"
    },
    {
     "data": {
      "application/json": {
       "ascii": false,
       "bar_format": null,
       "colour": null,
       "elapsed": 0.008828163146972656,
       "initial": 0,
       "n": 0,
       "ncols": null,
       "nrows": 12,
       "postfix": null,
       "prefix": "Downloading (…)b20bca8e1d/README.md",
       "rate": null,
       "total": 10571,
       "unit": "B",
       "unit_divisor": 1000,
       "unit_scale": true
      },
      "application/vnd.jupyter.widget-view+json": {
       "model_id": "3a367945a41b4b9da0f1d4d01050fa1d",
       "version_major": 2,
       "version_minor": 0
      },
      "text/plain": [
       "Downloading (…)b20bca8e1d/README.md:   0%|          | 0.00/10.6k [00:00<?, ?B/s]"
      ]
     },
     "metadata": {},
     "output_type": "display_data"
    },
    {
     "data": {
      "application/json": {
       "ascii": false,
       "bar_format": null,
       "colour": null,
       "elapsed": 0.007284879684448242,
       "initial": 0,
       "n": 0,
       "ncols": null,
       "nrows": 12,
       "postfix": null,
       "prefix": "Downloading (…)0bca8e1d/config.json",
       "rate": null,
       "total": 571,
       "unit": "B",
       "unit_divisor": 1000,
       "unit_scale": true
      },
      "application/vnd.jupyter.widget-view+json": {
       "model_id": "905b29c773814d51b677236a06fa512a",
       "version_major": 2,
       "version_minor": 0
      },
      "text/plain": [
       "Downloading (…)0bca8e1d/config.json:   0%|          | 0.00/571 [00:00<?, ?B/s]"
      ]
     },
     "metadata": {},
     "output_type": "display_data"
    },
    {
     "data": {
      "application/json": {
       "ascii": false,
       "bar_format": null,
       "colour": null,
       "elapsed": 0.0069959163665771484,
       "initial": 0,
       "n": 0,
       "ncols": null,
       "nrows": 12,
       "postfix": null,
       "prefix": "Downloading (…)ce_transformers.json",
       "rate": null,
       "total": 116,
       "unit": "B",
       "unit_divisor": 1000,
       "unit_scale": true
      },
      "application/vnd.jupyter.widget-view+json": {
       "model_id": "a9a1127b2c7c425b903433994e60ff17",
       "version_major": 2,
       "version_minor": 0
      },
      "text/plain": [
       "Downloading (…)ce_transformers.json:   0%|          | 0.00/116 [00:00<?, ?B/s]"
      ]
     },
     "metadata": {},
     "output_type": "display_data"
    },
    {
     "data": {
      "application/json": {
       "ascii": false,
       "bar_format": null,
       "colour": null,
       "elapsed": 0.011270284652709961,
       "initial": 0,
       "n": 0,
       "ncols": null,
       "nrows": 12,
       "postfix": null,
       "prefix": "Downloading (…)e1d/data_config.json",
       "rate": null,
       "total": 39265,
       "unit": "B",
       "unit_divisor": 1000,
       "unit_scale": true
      },
      "application/vnd.jupyter.widget-view+json": {
       "model_id": "095ace8c424c4930b8f2f3cf4cc7aa06",
       "version_major": 2,
       "version_minor": 0
      },
      "text/plain": [
       "Downloading (…)e1d/data_config.json:   0%|          | 0.00/39.3k [00:00<?, ?B/s]"
      ]
     },
     "metadata": {},
     "output_type": "display_data"
    },
    {
     "data": {
      "application/json": {
       "ascii": false,
       "bar_format": null,
       "colour": null,
       "elapsed": 0.0109100341796875,
       "initial": 0,
       "n": 0,
       "ncols": null,
       "nrows": 12,
       "postfix": null,
       "prefix": "Downloading pytorch_model.bin",
       "rate": null,
       "total": 438011953,
       "unit": "B",
       "unit_divisor": 1000,
       "unit_scale": true
      },
      "application/vnd.jupyter.widget-view+json": {
       "model_id": "131dd36804df47c7ab110951cdff626a",
       "version_major": 2,
       "version_minor": 0
      },
      "text/plain": [
       "Downloading pytorch_model.bin:   0%|          | 0.00/438M [00:00<?, ?B/s]"
      ]
     },
     "metadata": {},
     "output_type": "display_data"
    },
    {
     "data": {
      "application/json": {
       "ascii": false,
       "bar_format": null,
       "colour": null,
       "elapsed": 0.002249002456665039,
       "initial": 0,
       "n": 0,
       "ncols": null,
       "nrows": 12,
       "postfix": null,
       "prefix": "Downloading (…)nce_bert_config.json",
       "rate": null,
       "total": 53,
       "unit": "B",
       "unit_divisor": 1000,
       "unit_scale": true
      },
      "application/vnd.jupyter.widget-view+json": {
       "model_id": "cea545ada9524048adbb478e0165eaf0",
       "version_major": 2,
       "version_minor": 0
      },
      "text/plain": [
       "Downloading (…)nce_bert_config.json:   0%|          | 0.00/53.0 [00:00<?, ?B/s]"
      ]
     },
     "metadata": {},
     "output_type": "display_data"
    },
    {
     "data": {
      "application/json": {
       "ascii": false,
       "bar_format": null,
       "colour": null,
       "elapsed": 0.002195119857788086,
       "initial": 0,
       "n": 0,
       "ncols": null,
       "nrows": 12,
       "postfix": null,
       "prefix": "Downloading (…)cial_tokens_map.json",
       "rate": null,
       "total": 239,
       "unit": "B",
       "unit_divisor": 1000,
       "unit_scale": true
      },
      "application/vnd.jupyter.widget-view+json": {
       "model_id": "a592b5e533e74d88beb6000e8f15b50a",
       "version_major": 2,
       "version_minor": 0
      },
      "text/plain": [
       "Downloading (…)cial_tokens_map.json:   0%|          | 0.00/239 [00:00<?, ?B/s]"
      ]
     },
     "metadata": {},
     "output_type": "display_data"
    },
    {
     "data": {
      "application/json": {
       "ascii": false,
       "bar_format": null,
       "colour": null,
       "elapsed": 0.0020148754119873047,
       "initial": 0,
       "n": 0,
       "ncols": null,
       "nrows": 12,
       "postfix": null,
       "prefix": "Downloading (…)a8e1d/tokenizer.json",
       "rate": null,
       "total": 466021,
       "unit": "B",
       "unit_divisor": 1000,
       "unit_scale": true
      },
      "application/vnd.jupyter.widget-view+json": {
       "model_id": "a025e31beb91460e82696bed25eaf739",
       "version_major": 2,
       "version_minor": 0
      },
      "text/plain": [
       "Downloading (…)a8e1d/tokenizer.json:   0%|          | 0.00/466k [00:00<?, ?B/s]"
      ]
     },
     "metadata": {},
     "output_type": "display_data"
    },
    {
     "data": {
      "application/json": {
       "ascii": false,
       "bar_format": null,
       "colour": null,
       "elapsed": 0.0026040077209472656,
       "initial": 0,
       "n": 0,
       "ncols": null,
       "nrows": 12,
       "postfix": null,
       "prefix": "Downloading (…)okenizer_config.json",
       "rate": null,
       "total": 363,
       "unit": "B",
       "unit_divisor": 1000,
       "unit_scale": true
      },
      "application/vnd.jupyter.widget-view+json": {
       "model_id": "d89572e27aad4e8cbc7da1e664bdb58b",
       "version_major": 2,
       "version_minor": 0
      },
      "text/plain": [
       "Downloading (…)okenizer_config.json:   0%|          | 0.00/363 [00:00<?, ?B/s]"
      ]
     },
     "metadata": {},
     "output_type": "display_data"
    },
    {
     "data": {
      "application/json": {
       "ascii": false,
       "bar_format": null,
       "colour": null,
       "elapsed": 0.0023849010467529297,
       "initial": 0,
       "n": 0,
       "ncols": null,
       "nrows": 12,
       "postfix": null,
       "prefix": "Downloading (…)8e1d/train_script.py",
       "rate": null,
       "total": 13123,
       "unit": "B",
       "unit_divisor": 1000,
       "unit_scale": true
      },
      "application/vnd.jupyter.widget-view+json": {
       "model_id": "8b6753b154d54134b72f3ec0123b8bd9",
       "version_major": 2,
       "version_minor": 0
      },
      "text/plain": [
       "Downloading (…)8e1d/train_script.py:   0%|          | 0.00/13.1k [00:00<?, ?B/s]"
      ]
     },
     "metadata": {},
     "output_type": "display_data"
    },
    {
     "data": {
      "application/json": {
       "ascii": false,
       "bar_format": null,
       "colour": null,
       "elapsed": 0.0033490657806396484,
       "initial": 0,
       "n": 0,
       "ncols": null,
       "nrows": 12,
       "postfix": null,
       "prefix": "Downloading (…)b20bca8e1d/vocab.txt",
       "rate": null,
       "total": 231536,
       "unit": "B",
       "unit_divisor": 1000,
       "unit_scale": true
      },
      "application/vnd.jupyter.widget-view+json": {
       "model_id": "8d36026b6f2a4305b8704ed617a2ac64",
       "version_major": 2,
       "version_minor": 0
      },
      "text/plain": [
       "Downloading (…)b20bca8e1d/vocab.txt:   0%|          | 0.00/232k [00:00<?, ?B/s]"
      ]
     },
     "metadata": {},
     "output_type": "display_data"
    },
    {
     "data": {
      "application/json": {
       "ascii": false,
       "bar_format": null,
       "colour": null,
       "elapsed": 0.0020182132720947266,
       "initial": 0,
       "n": 0,
       "ncols": null,
       "nrows": 12,
       "postfix": null,
       "prefix": "Downloading (…)bca8e1d/modules.json",
       "rate": null,
       "total": 349,
       "unit": "B",
       "unit_divisor": 1000,
       "unit_scale": true
      },
      "application/vnd.jupyter.widget-view+json": {
       "model_id": "6ef3cd82aa8340d3b18a1c15ab0bb5b1",
       "version_major": 2,
       "version_minor": 0
      },
      "text/plain": [
       "Downloading (…)bca8e1d/modules.json:   0%|          | 0.00/349 [00:00<?, ?B/s]"
      ]
     },
     "metadata": {},
     "output_type": "display_data"
    }
   ],
   "source": [
    "# Load a different pre-trained model, generate embeddings, and test with the same queries\n",
    "model_name = 'all-mpnet-base-v2'\n",
    "new_model = SentenceTransformer(model_name)"
   ]
  },
  {
   "cell_type": "markdown",
   "id": "8eb3ca16",
   "metadata": {},
   "source": [
    "## Question 2: Find text duplicates\n",
    "\n",
    "Try to find duplicate or near-duplicate texts in a given corpus based on their semantic similarity using sentence-transformers. "
   ]
  },
  {
   "cell_type": "code",
   "execution_count": 19,
   "id": "2e63124d",
   "metadata": {},
   "outputs": [],
   "source": [
    "corpus = [\n",
    "    \"The quick brown fox jumps over the lazy dog.\",\n",
    "    \"The quick brown fox leaps over the lazy dog.\",\n",
    "    \"The sky is blue, and the grass is green.\",\n",
    "    \"The grass is green, and the sky is blue.\",\n",
    "    \"It's a sunny day today.\",\n",
    "    \"The weather is sunny today.\",\n",
    "    \"She was wearing a beautiful red dress.\",\n",
    "    \"She had on a gorgeous red dress.\",\n",
    "    \"I'm going to the supermarket to buy some groceries.\",\n",
    "    \"I'm heading to the supermarket to purchase some groceries.\",\n",
    "    \"He didn't like the movie because it was too long.\",\n",
    "    \"He disliked the movie as it was too lengthy.\",\n",
    "    \"The train was delayed due to technical issues.\",\n",
    "    \"Technical issues caused the train to be delayed.\",\n",
    "    \"I'll have a cup of coffee with milk and sugar, please.\",\n",
    "    \"Can I get a coffee with milk and sugar, please?\",\n",
    "    \"The conference was very informative and interesting.\",\n",
    "    \"The conference turned out to be interesting and informative.\",\n",
    "    \"He enjoys listening to classical music in his free time.\",\n",
    "    \"In his leisure time, he likes to listen to classical music.\",\n",
    "    \"Please make sure you turn off the lights before leaving.\",\n",
    "    \"Before leaving, ensure that you switch off the lights.\",\n",
    "    \"The boy was delighted with the gift he received.\",\n",
    "    \"Receiving the present made the young lad ecstatic.\",\n",
    "    \"She has a preference for Italian cuisine.\",\n",
    "    \"Her favorite type of food is from Italy.\",\n",
    "    \"The software engineer resolved the issue by modifying the code.\",\n",
    "    \"By altering the programming, the tech expert fixed the problem.\",\n",
    "    \"Due to the inclement weather, the baseball game was postponed.\",\n",
    "    \"The baseball match was rescheduled because of bad weather conditions.\",\n",
    "    \"The house was engulfed in a raging fire.\",\n",
    "    \"Flames rapidly consumed the residence.\",\n",
    "    \"He is constantly browsing the internet for the latest news.\",\n",
    "    \"He frequently scours the web to stay updated on current events.\",\n",
    "    \"The puppy was playing with a toy in the garden.\",\n",
    "    \"In the yard, the young dog was frolicking with its plaything.\",\n",
    "    \"The artist painted a beautiful landscape on the canvas.\",\n",
    "]"
   ]
  },
  {
   "cell_type": "code",
   "execution_count": 23,
   "id": "3b500687",
   "metadata": {},
   "outputs": [],
   "source": [
    "# Step 1: Initialize the SentenceTransformer model\n",
    "model = SentenceTransformer('all-mpnet-base-v2')"
   ]
  },
  {
   "cell_type": "code",
   "execution_count": 24,
   "id": "5fe93930",
   "metadata": {},
   "outputs": [
    {
     "data": {
      "application/json": {
       "ascii": false,
       "bar_format": null,
       "colour": null,
       "elapsed": 0.003186941146850586,
       "initial": 0,
       "n": 0,
       "ncols": null,
       "nrows": 12,
       "postfix": null,
       "prefix": "Batches",
       "rate": null,
       "total": 2,
       "unit": "it",
       "unit_divisor": 1000,
       "unit_scale": false
      },
      "application/vnd.jupyter.widget-view+json": {
       "model_id": "bb9b5f96fb46498489b25dd1ff84b33b",
       "version_major": 2,
       "version_minor": 0
      },
      "text/plain": [
       "Batches:   0%|          | 0/2 [00:00<?, ?it/s]"
      ]
     },
     "metadata": {},
     "output_type": "display_data"
    }
   ],
   "source": [
    "# Step 2: Obtain corpus embeddings\n",
    "embeddings = model.encode(corpus, show_progress_bar=True)"
   ]
  },
  {
   "cell_type": "code",
   "execution_count": 25,
   "id": "fce3fd65",
   "metadata": {},
   "outputs": [],
   "source": [
    "# Step 3: Calculate similarity and find duplicates\n",
    "\n",
    "# TODO: Define a similarity threshold\n",
    "similarity_threshold = 0.85\n",
    "\n",
    "# TODO: Iterate over each pair of embeddings in the corpus\n",
    "# Calculate the cosine similarity between the embeddings\n",
    "# If the similarity is above the threshold, add the sentences to the duplicates list\n",
    "duplicates = []\n",
    "\n",
    "for i, emb1 in enumerate(embeddings):\n",
    "    for j, emb2 in enumerate(embeddings[i + 1:]):\n",
    "        similarity = cosine_similarity([emb1], [emb2])[0][0]\n",
    "        if similarity > similarity_threshold:\n",
    "            duplicates.append((corpus[i], corpus[i + j + 1], similarity))"
   ]
  },
  {
   "cell_type": "code",
   "execution_count": 26,
   "id": "8b17148d",
   "metadata": {},
   "outputs": [
    {
     "name": "stdout",
     "output_type": "stream",
     "text": [
      "Duplicate sentences:\n",
      "The quick brown fox jumps over the lazy dog. | The quick brown fox leaps over the lazy dog. | Similarity: 0.99\n",
      "\n",
      "The sky is blue, and the grass is green. | The grass is green, and the sky is blue. | Similarity: 0.98\n",
      "\n",
      "It's a sunny day today. | The weather is sunny today. | Similarity: 0.93\n",
      "\n",
      "She was wearing a beautiful red dress. | She had on a gorgeous red dress. | Similarity: 0.98\n",
      "\n",
      "I'm going to the supermarket to buy some groceries. | I'm heading to the supermarket to purchase some groceries. | Similarity: 0.98\n",
      "\n",
      "He didn't like the movie because it was too long. | He disliked the movie as it was too lengthy. | Similarity: 0.94\n",
      "\n",
      "The train was delayed due to technical issues. | Technical issues caused the train to be delayed. | Similarity: 0.98\n",
      "\n",
      "I'll have a cup of coffee with milk and sugar, please. | Can I get a coffee with milk and sugar, please? | Similarity: 0.85\n",
      "\n",
      "The conference was very informative and interesting. | The conference turned out to be interesting and informative. | Similarity: 0.96\n",
      "\n",
      "He enjoys listening to classical music in his free time. | In his leisure time, he likes to listen to classical music. | Similarity: 0.94\n",
      "\n",
      "Please make sure you turn off the lights before leaving. | Before leaving, ensure that you switch off the lights. | Similarity: 0.91\n",
      "\n",
      "She has a preference for Italian cuisine. | Her favorite type of food is from Italy. | Similarity: 0.91\n",
      "\n",
      "Due to the inclement weather, the baseball game was postponed. | The baseball match was rescheduled because of bad weather conditions. | Similarity: 0.85\n",
      "\n",
      "The house was engulfed in a raging fire. | Flames rapidly consumed the residence. | Similarity: 0.89\n",
      "\n"
     ]
    }
   ],
   "source": [
    "print(\"Duplicate sentences:\")\n",
    "for sent1, sent2, sim in duplicates:\n",
    "    print(f\"{sent1} | {sent2} | Similarity: {sim:.2f}\")\n",
    "    print()"
   ]
  },
  {
   "cell_type": "markdown",
   "id": "c6dbab82",
   "metadata": {},
   "source": [
    "# Document Clustering\n",
    "\n",
    "K-means clustering is a popular unsupervised machine learning algorithm that groups data points into k clusters based on their similarity. In our case, we want to group documents based on their semantic similarity. The algorithm requires us to specify the number of clusters k in advance."
   ]
  },
  {
   "cell_type": "code",
   "execution_count": 27,
   "id": "95c055ce",
   "metadata": {},
   "outputs": [],
   "source": [
    "corpus = [\n",
    "    \"The apple is a sweet fruit\",\n",
    "    \"Oranges are citrus fruits\",\n",
    "    \"Bananas are rich in potassium\",\n",
    "    \"Strawberries are red fruits\",\n",
    "    \"Dogs are domesticated animals\",\n",
    "    \"Cats are also pets\",\n",
    "    \"Elephants are the largest land mammals\",\n",
    "    \"Cows provide us with milk\",\n",
    "    \"Sharks are marine predators\",\n",
    "    \"Whales are the largest marine mammals\",\n",
    "    \"Dolphins are very intelligent\",\n",
    "    \"Artificial intelligence is the future\",\n",
    "    \"Machine learning is a subset of AI\",\n",
    "    \"Deep learning is a part of machine learning\",\n",
    "    \"Neural networks are used in deep learning\",\n",
    "]\n",
    "\n",
    "df = pd.DataFrame({'documents': corpus})"
   ]
  },
  {
   "cell_type": "code",
   "execution_count": 28,
   "id": "07529ddd",
   "metadata": {},
   "outputs": [],
   "source": [
    "model = SentenceTransformer('all-MiniLM-L6-v2')\n",
    "\n",
    "# Encode the documents in the corpus\n",
    "document_embeddings = model.encode(corpus)"
   ]
  },
  {
   "cell_type": "code",
   "execution_count": 29,
   "id": "ea806d9f",
   "metadata": {},
   "outputs": [],
   "source": [
    "from sklearn.cluster import KMeans\n",
    "num_clusters = 3\n",
    "clustering_model = KMeans(n_clusters=num_clusters, init='k-means++', max_iter=300, n_init=10)\n",
    "clustering_model.fit(document_embeddings)\n",
    "cluster_assignment = clustering_model.labels_\n",
    "\n",
    "df['cluster'] = cluster_assignment"
   ]
  },
  {
   "cell_type": "code",
   "execution_count": 30,
   "id": "fc24cc4f",
   "metadata": {},
   "outputs": [
    {
     "name": "stdout",
     "output_type": "stream",
     "text": [
      "Cluster 0:\n",
      "['The apple is a sweet fruit' 'Oranges are citrus fruits'\n",
      " 'Bananas are rich in potassium' 'Strawberries are red fruits'] \n",
      "\n",
      "Cluster 1:\n",
      "['Artificial intelligence is the future'\n",
      " 'Machine learning is a subset of AI'\n",
      " 'Deep learning is a part of machine learning'\n",
      " 'Neural networks are used in deep learning'] \n",
      "\n",
      "Cluster 2:\n",
      "['Dogs are domesticated animals' 'Cats are also pets'\n",
      " 'Elephants are the largest land mammals' 'Cows provide us with milk'\n",
      " 'Sharks are marine predators' 'Whales are the largest marine mammals'\n",
      " 'Dolphins are very intelligent'] \n",
      "\n"
     ]
    }
   ],
   "source": [
    "for i in range(num_clusters):\n",
    "    print(f\"Cluster {i}:\")\n",
    "    print(df[df['cluster'] == i]['documents'].values, \"\\n\")"
   ]
  },
  {
   "cell_type": "markdown",
   "id": "9aadaa3a",
   "metadata": {},
   "source": [
    "# Community Detection with Sentence Transformers\n",
    "\n",
    "The sentence_transformers library provides a utility for community detection which applies a threshold on the cosine similarity score to identify distinct communities of sentences that are semantically similar. This method can be particularly helpful for organizing a large corpus of text into meaningful groups.\n",
    "\n",
    "\n",
    "\n",
    "\n",
    "The [`community_detection`](https://www.sbert.net/docs/package_reference/util.html#sentence_transformers.util.community_detection) function in the Sentence Transformers library is a useful utility for finding clusters or communities of semantically similar sentences. Here are the details of the function parameters:\n",
    "\n",
    "- `document_embeddings`: This is the list of embeddings for the documents in your corpus. The embeddings can be created using any of the Sentence Transformer models. The embeddings should be in the form of a 2D tensor or a list of 1D tensors. Each embedding should be a fixed-length vector that represents the semantic meaning of a document.\n",
    "\n",
    "- `threshold`: This is a float value between 0 and 1 that determines the cutoff for considering two documents to be part of the same community. It's based on the cosine similarity of the document embeddings. If the cosine similarity of two document embeddings is greater than the threshold, those two documents are considered to be in the same community. The higher the threshold, the more similar the documents in each community will be. However, a higher threshold may also result in more communities.\n",
    "\n",
    "- `min_community_size`: This is the minimum number of documents that a community must have. If a community has fewer than this number of documents, it will be discarded. The default value is 1, but you might want to set a higher value if you're interested in larger communities. This can help filter out noise and find more meaningful communities.\n",
    "\n",
    "- `batch_size`: As the function computes cosine similarities between document pairs, it may consume a significant amount of memory for a large corpus. To manage this, the computations are done in batches. The batch_size parameter determines the number of document pairs to compute similarities for in each batch. Larger batch sizes can be faster but consume more memory, while smaller batch sizes are slower but more memory-efficient.\n",
    "\n",
    "The function returns a list of communities, where each community is a list of indices in the original list of documents. Each community represents a group of semantically similar documents based on the provided threshold."
   ]
  },
  {
   "cell_type": "code",
   "execution_count": 33,
   "id": "8e3d1c9f",
   "metadata": {},
   "outputs": [
    {
     "data": {
      "application/json": {
       "ascii": false,
       "bar_format": null,
       "colour": null,
       "elapsed": 0.0034148693084716797,
       "initial": 0,
       "n": 0,
       "ncols": null,
       "nrows": 12,
       "postfix": null,
       "prefix": "Batches",
       "rate": null,
       "total": 1,
       "unit": "it",
       "unit_divisor": 1000,
       "unit_scale": false
      },
      "application/vnd.jupyter.widget-view+json": {
       "model_id": "78ef248b5efe4be3a25b9135b14a2864",
       "version_major": 2,
       "version_minor": 0
      },
      "text/plain": [
       "Batches:   0%|          | 0/1 [00:00<?, ?it/s]"
      ]
     },
     "metadata": {},
     "output_type": "display_data"
    },
    {
     "name": "stdout",
     "output_type": "stream",
     "text": [
      "__________________________________________________\n",
      "community: 0, size: 4\n",
      "Artificial intelligence is the future\n",
      "Machine learning is a subset of AI\n",
      "Deep learning is a part of machine learning\n",
      "Neural networks are used in deep learning\n",
      "\n",
      "__________________________________________________\n",
      "community: 1, size: 3\n",
      "The apple is a sweet fruit\n",
      "Oranges are citrus fruits\n",
      "Strawberries are red fruits\n",
      "\n",
      "__________________________________________________\n",
      "community: 2, size: 3\n",
      "Elephants are the largest land mammals\n",
      "Sharks are marine predators\n",
      "Whales are the largest marine mammals\n",
      "\n"
     ]
    }
   ],
   "source": [
    "from sentence_transformers.util import community_detection\n",
    "document_embeddings = model.encode(\n",
    "    corpus, show_progress_bar=True, convert_to_tensor=True\n",
    ")\n",
    "communities = community_detection(\n",
    "    document_embeddings, threshold=0.5, min_community_size=2, batch_size=1024\n",
    ")\n",
    "for i, comm in enumerate(communities):\n",
    "    print('_'*50)\n",
    "    print(f'community: {i}, size: {len(comm)}')\n",
    "    print('\\n'.join([corpus[ind] for ind in comm]))\n",
    "    print()"
   ]
  },
  {
   "cell_type": "markdown",
   "id": "e5b87688",
   "metadata": {},
   "source": [
    "In the output, we will see the communities of semantically similar sentences. Note that the choice of the threshold value can greatly affect the results: a lower threshold will result in larger but less cohesive communities, while a higher threshold will result in smaller but more tightly-knit communities.\n",
    "\n",
    "The community_detection function is a fast and efficient way to group similar sentences together, but keep in mind that it's a rather simple method based on thresholding the cosine similarity, and more sophisticated community detection methods might yield better results for certain tasks or datasets.\n",
    "\n",
    "This function is a great way to explore the semantic structure of your corpus and to get a high-level understanding of the main themes or topics in your text data."
   ]
  }
 ],
 "metadata": {
  "kernelspec": {
   "display_name": "Python 3 (ipykernel)",
   "language": "python",
   "name": "python3"
  },
  "language_info": {
   "codemirror_mode": {
    "name": "ipython",
    "version": 3
   },
   "file_extension": ".py",
   "mimetype": "text/x-python",
   "name": "python",
   "nbconvert_exporter": "python",
   "pygments_lexer": "ipython3",
   "version": "3.8.16"
  },
  "toc": {
   "base_numbering": 1,
   "nav_menu": {},
   "number_sections": true,
   "sideBar": true,
   "skip_h1_title": false,
   "title_cell": "Table of Contents",
   "title_sidebar": "Contents",
   "toc_cell": false,
   "toc_position": {},
   "toc_section_display": true,
   "toc_window_display": false
  }
 },
 "nbformat": 4,
 "nbformat_minor": 5
}
